{
  "nbformat": 4,
  "nbformat_minor": 0,
  "metadata": {
    "colab": {
      "provenance": [],
      "authorship_tag": "ABX9TyOCmOh25E3CjIWmPPfhL8pv",
      "include_colab_link": true
    },
    "kernelspec": {
      "name": "python3",
      "display_name": "Python 3"
    },
    "language_info": {
      "name": "python"
    }
  },
  "cells": [
    {
      "cell_type": "markdown",
      "metadata": {
        "id": "view-in-github",
        "colab_type": "text"
      },
      "source": [
        "<a href=\"https://colab.research.google.com/github/cedamusk/AI-N-ML/blob/main/Ordinal_Logistic_Regression.ipynb\" target=\"_parent\"><img src=\"https://colab.research.google.com/assets/colab-badge.svg\" alt=\"Open In Colab\"/></a>"
      ]
    },
    {
      "cell_type": "markdown",
      "source": [
        "# Ordinal Logistic Regression\n",
        "\n",
        "## Install mord\n",
        "To run the code for Ordinal Logistic Regression, the `mord` library must be installed. This library provides tools for odinal regression, which handles problems where the target variable has a natural order but no consistent difference between categories."
      ],
      "metadata": {
        "id": "ZUS_TAE40XMf"
      }
    },
    {
      "cell_type": "code",
      "source": [
        "!pip install mord"
      ],
      "metadata": {
        "colab": {
          "base_uri": "https://localhost:8080/"
        },
        "id": "-tzD1Uju0T_A",
        "outputId": "b72e6174-e288-4b7b-cf0d-33dee7c1397d"
      },
      "execution_count": 1,
      "outputs": [
        {
          "output_type": "stream",
          "name": "stdout",
          "text": [
            "Collecting mord\n",
            "  Downloading mord-0.7.tar.gz (8.6 kB)\n",
            "  Preparing metadata (setup.py) ... \u001b[?25l\u001b[?25hdone\n",
            "Building wheels for collected packages: mord\n",
            "  Building wheel for mord (setup.py) ... \u001b[?25l\u001b[?25hdone\n",
            "  Created wheel for mord: filename=mord-0.7-py3-none-any.whl size=9886 sha256=ff0230a31d04686648177558761e21cbc2c71d71f66025e9ada53c4a28bdcacf\n",
            "  Stored in directory: /root/.cache/pip/wheels/d1/fc/57/f2a2ad4ed0491ab6d5bb8642a90f1da9469397641e914743da\n",
            "Successfully built mord\n",
            "Installing collected packages: mord\n",
            "Successfully installed mord-0.7\n"
          ]
        }
      ]
    },
    {
      "cell_type": "markdown",
      "source": [
        "## Import libraries\n",
        "`numpy`: Provides support for numerical operations and handling arrays effeciently. It's commonly used for numerical computations.\n",
        "\n",
        "`pandas`: A library for data manipulation and analysis, particularly useful for handling tabular data with its `DataFrame` structure.\n",
        "\n",
        "`make_classification`: A utility function to generate synthetic datasets for classification problems, making it easier to test and validate models.\n",
        "\n",
        "`train_test_split`: Splits the dataset into training and testing subsets for model evaluation.\n",
        "\n",
        "`GridSearchCV`: Performs hyperparameter tuning using cross-validation to find the best combination of parameters.\n",
        "\n",
        "`confusion_matrix`: Creates a matrix showing true positives, true negatives, false positives, and false negatives for classification results.\n",
        "\n",
        "`accuracy_score`: Measures the overall accuracy of the model (correct predictions/ total predictions).\n",
        "\n",
        "`precision_score`, `recall_score`, `f1_score`: Metrics for evaluating classification performance.\n",
        "\n",
        "  **Precision**: Ratio of true positives to all predicted positives.\n",
        "\n",
        "  **Recall**: Ratio of true positives to all actual positives.\n",
        "\n",
        "  **F1 Score**: Harmoic mean of precision and recall, balancing both metrics.\n",
        "\n",
        "`StanndardScaler`: Standardizes features by removing the mean and scaling to unit variance, improving model performance by ensuring all features are on the same scale.\n",
        "\n",
        "`Pipeline`: Simplifies the process of applying a sequence of data preprocessing steps and model training, ensuring reproducibility.\n",
        "\n",
        "`make_scorer`: Customizes scoring functions for model evaluation, allowing you to define metrics tailored to specific objectives.\n",
        "\n",
        "`PCA` **(Principal Component Analysis)**: A dimensionality reduction technique used to reduce the number of features while retaining as much variance as possible.\n",
        "\n",
        "`matplotlib.pyplot`: A plotting library for creating static, interactive, and animated visualizations.\n",
        "\n",
        "`seaborn`: A library built on top of Matplotlib, offering high-level, aesthetically pleasing statistical plots.\n",
        "\n",
        "`LogisticIT`: An implementation of ordinal logistic regression provided by the `mord` library. It models ordinal target variables by fitting an intercept and slope for each category.\n",
        "\n",
        "`warnings.filterwarnings('ignore')`: Suppresses warning messages to avoid cluttering the output, especially durin iterative runs or when working with experimental features."
      ],
      "metadata": {
        "id": "bkZF4T3e1Vl3"
      }
    },
    {
      "cell_type": "code",
      "execution_count": 2,
      "metadata": {
        "id": "fCDXLN9wyeLk"
      },
      "outputs": [],
      "source": [
        "import numpy as np\n",
        "import pandas as pd\n",
        "from sklearn.datasets import make_classification\n",
        "from sklearn.model_selection import train_test_split, GridSearchCV\n",
        "from sklearn.metrics import confusion_matrix, accuracy_score\n",
        "from sklearn.metrics import precision_score, recall_score, f1_score\n",
        "from sklearn.preprocessing import StandardScaler\n",
        "from sklearn.pipeline import Pipeline\n",
        "from sklearn.metrics import make_scorer\n",
        "from sklearn.decomposition import PCA\n",
        "import matplotlib.pyplot as plt\n",
        "import seaborn as sns\n",
        "from mord import LogisticIT\n",
        "import warnings\n",
        "warnings.filterwarnings('ignore')"
      ]
    },
    {
      "cell_type": "markdown",
      "source": [
        "## Create Ordinal Dataset\n",
        "This function generates a synthetic dataset for ordinal regression, where the target variables has an ordered, categorical structure.\n",
        "\n",
        "`n_samples`: Number of samples (data points) to generate (defaults: 1000).\n",
        "\n",
        "`n_features`: Number of features (predictor variables) to generate (default: 5).\n",
        "\n",
        "`n_classes`: Number of ordianl catgeories for the target variables ( default: 3).\n",
        "\n",
        "`class_sep`: A scaling factor to control the separation between classes (default: 2.0)."
      ],
      "metadata": {
        "id": "_VKKCS9ZFAYp"
      }
    },
    {
      "cell_type": "code",
      "source": [
        "def create_ordinal_dataset(n_samples=1000, n_features=5, n_classes=3, class_sep=2.0):\n",
        "  X=np.random.randn(n_samples, n_features) #Generates a randome dataset of shape `(n_samples, n_features) using the standard normal distribution\n",
        "  beta=np.random.randn(n_features) #Creates a random coefficient vector for features, represnting the relationship between predictors and the target variable\n",
        "  z=np.dot(X, beta)\n",
        "  # Computes a linear combination of features using the coefficient vector beta. This represents a contnuous latent variable (z) before mappig to ordinal categories.\n",
        "\n",
        "\n",
        "  z=z-np.mean(z) #Centers the latent variable z around zero by subtracting its mean\n",
        "  z=z*class_sep/np.std(z)#Scales the latent variable by the class_sep factor, which controls te spread (or separation) between categories\n",
        "\n",
        "  thresholds=np.linspace(z.min(), z.max(), n_classes+1)[1:-1]\n",
        "  \"\"\"Computes evenly spaced thresholds between minimum and maxmimum values of z to define the the boundaries\n",
        "  between ordinal categories\n",
        "\n",
        "  np.linspace: Generates n_classes+1 equally spaced values.\n",
        "\n",
        "  [1:-1]: Selects the inner thresholds, leaving out the extreme edges.\n",
        "\n",
        "  \"\"\"\n",
        "  y=np.zeros(n_samples, dtype=int) #Initializes the target variable y as an array of zeros, representing the base category\n",
        "  for i, threshold in enumerate(thresholds):\n",
        "    y[z> threshold] =i+1\n",
        "\n",
        "#Loops through the the thresholds, assigning ordinal categories to y based on the values of z. Each threshold separates z into a higher category.\n",
        "\n",
        "  return X, y"
      ],
      "metadata": {
        "id": "QJGE0VY68DPX"
      },
      "execution_count": 3,
      "outputs": []
    },
    {
      "cell_type": "markdown",
      "source": [
        "## Custom adjacency scorer\n",
        "This function computes a custom scoring metric to evaluate the performance of an ordinal regression model. The metric checks how often the predicted ordinal category is within one adjacent level of the true label.\n",
        "\n",
        "### Key insights\n",
        "\n",
        "\n",
        "1.   **Metric type**: The metric is less strict than exact accuracy and is designed for ordinal problems where being close to the true value is acceptable.\n",
        "2.   **Use case**: Particularly useful in ordinal classification tasks where small deviations from the true label are tolerable.\n",
        "\n",
        "3.   **Interpretation**: A score of `1.0` indicates perfect adjacency (all predictions are within +/- of the true labels). Lower scores suggest that many predictions are far from the true labels.\n",
        "\n"
      ],
      "metadata": {
        "id": "S9bhMUPmfFdR"
      }
    },
    {
      "cell_type": "code",
      "source": [
        "def custom_adjacency_scorer(y_true, y_pred):\n",
        "\n",
        "  \"\"\"\n",
        "  Compute a custom adjacency score for ordinal regression.\n",
        "\n",
        "  Parameters:\n",
        "  y_true: Array-like of shape (n_samples,)\n",
        "    The True Ordinal Labels.\n",
        "  y_pred: array-like of shape (n_samples,)\n",
        "    The predicted ordinal labels\n",
        "\n",
        "  Returns:\n",
        "  float: The proportion of predictions that are within one level of the true labels.\n",
        "\n",
        "  Description:\n",
        "\n",
        "  The adjacency scoe evaluates the performance of ordinal regression allowing a tolerance of +/-1 between\n",
        "  the predicted label (`y_pred`) and the true label (`y_true`). This is useful for ordinal problems where predictions\n",
        "  close to the true value are still considered\n",
        "\n",
        "  Formula:\n",
        "  -For each sample, calculate `|y_true-y_pred|`\n",
        "  -If the difference is <= 1, consider the prediction correct.\n",
        "  -Compute the mean of all such correct predictions.\n",
        "\n",
        "  Example:\n",
        "  >>>>y_true=[2, 3, 4, 3]\n",
        "  >>>>y_pred=[3, 3, 5, 2]\n",
        "  >>>>custom_adjacency_scorer(y_true, y_pred)\n",
        "  1.0 #All predictions are within +/-1 of the true labels.\n",
        "  \"\"\"\n",
        "  return np.mean(np.abs(y_true-y_pred) <= 1)"
      ],
      "metadata": {
        "id": "dUhqdZon9Eaw"
      },
      "execution_count": 4,
      "outputs": []
    },
    {
      "cell_type": "markdown",
      "source": [
        "## Dataset generation\n",
        "This code uses the `create_ordinal_dataset` function to generate a synthetic dataset for ordinal logistic regression.\n",
        "\n",
        "### Output\n",
        "\n",
        "\n",
        "*   `X`: A NumPy array of shape `(1000, 5)` representing the feature matrix.\n",
        "*   `y`: A NumPy array of shape `(1000, )` representing the ordinal target variable, with values in `{0, 1, 2}`\n",
        "\n",
        "### Use case\n",
        "This datasets is used to simulate ordinal regression scenarios, where the target variabl `y` represents ordered categoried. For examples:\n",
        "\n",
        "*    Severity levels of a condition\n",
        "*    Satisfaction ratings.\n",
        "\n"
      ],
      "metadata": {
        "id": "mzm7nmYFioBy"
      }
    },
    {
      "cell_type": "code",
      "source": [
        "X, y=create_ordinal_dataset(\n",
        "    n_samples=1000,#Generates 1,000 data samples (rows)\n",
        "    n_features=5, #Each sample will have 5 features (columns)\n",
        "    n_classes=3, #The target variable `y` will have 3 ordinal classes (e.g., 0, 1, 2)\n",
        "    class_sep=2.0 #Specifies the separation between classes, where larger values make class boundaries more distinct\n",
        ")"
      ],
      "metadata": {
        "id": "b3RVt2OE0anq"
      },
      "execution_count": 5,
      "outputs": []
    },
    {
      "cell_type": "markdown",
      "source": [
        "## Pipeline creation\n",
        "The following code defines a pipeline for processing data and training The model. The pipeline ensures that data preprocessing and model fitting occur sequentially and effeciently.\n",
        "\n",
        "A tool from `sklearn.pipeline.Pipeline` that allows chaining multiple data preprocessing and modelling steps into one object. It ensures the reproducibility and simplifies the code.\n",
        "\n",
        "### Use case\n",
        "This pipeline is designed for ordinal regression tasks where the target variable has a natural order. It automates preprocessing and modelling, ensuring all steps occur in the correct sequence.\n",
        "\n",
        "### Key advantages\n",
        "* **Scalability**: The pipeline can handle scaling, dimensionality reduction, and modelling for larger datasets.\n",
        "* **Reproducibility**: It standardizes the workflow, making it easier to debug and share code.\n",
        "* **Efficiency**: Integrates preprocessing and model training, eliminating manual steps."
      ],
      "metadata": {
        "id": "pR3h8tAVmrBQ"
      }
    },
    {
      "cell_type": "code",
      "source": [
        "pipeline=Pipeline([\n",
        "    ('scaler', StandardScaler()), #Scales the features to have zero mean and unit variance.\n",
        "    #Ensures that features are standardized, which is crucial for PCA and LogisticIT to perform optimally.\n",
        "\n",
        "    ('pca', PCA(n_components=4)), #Performs Principal Component Analysis to reduce the dimensioality of the dataset\n",
        "    #The dataset feature space is reduced to 4 components, capturing the most variance while discarding less informative features.\n",
        "\n",
        "    ('ordinal', LogisticIT())#Fits the LogisticIT model from the `mord` library\n",
        "    #LogisticIT performs ordinal logistic regression, predicting ordered categories\n",
        "])"
      ],
      "metadata": {
        "id": "gVOBYzqM0t2Q"
      },
      "execution_count": 6,
      "outputs": []
    },
    {
      "cell_type": "markdown",
      "source": [
        "## Parameter grid for hypeparameter tuning\n",
        "The following code snippet defines a parameter grid ofr tuning the `LogisticIT` model's hyperparameter within the pipeline using `GridSearchCV`.\n",
        "\n",
        "1. `param_grid`: A dictionary that specifies hyperparamters to tune and their respective values for the `LogisticIT` model.\n",
        "\n",
        "2. **Parameter being tuned\n",
        "`ordinal_alpha`**: Refers to the regularization parameter (`alpha`) in the `LogisticIT` model.\n",
        "\n",
        "* Controls the strength of regularization in the model.\n",
        "\n",
        "* Smaller values (e.g., 0.001) correspond to weaker regularization.\n",
        "\n",
        "* Larger values (e.g., 1.0) correspond to stronger regularization, which can prevent overfitting by penalizing large coefficients.\n",
        "\n",
        "3. **`ordinal__`Prefix**\n",
        "\n",
        "* Refers to the `LogisticIT` step in the pipeline.\n",
        "\n",
        "* The prefix follows the `Pipeline` convention, where the stape name (`ordinal`) is prepended to the parameter name (`alpha`) using the double underscores (`__`).\n",
        "\n",
        "\n",
        "###Purpose\n",
        "* The grid defines a range of `alpha` values to find the optimal regularization strength for the model.\n",
        "\n",
        "* Helps improve the model's performance by balancing bias and variance through cross-validation."
      ],
      "metadata": {
        "id": "ax1LKNEQuzr7"
      }
    },
    {
      "cell_type": "code",
      "source": [
        "param_grid={\n",
        "    'ordinal__alpha': [0.001, 0.01, 0.1, 1.0]\n",
        "}"
      ],
      "metadata": {
        "id": "jQ3f6xJY0zFN"
      },
      "execution_count": 7,
      "outputs": []
    },
    {
      "cell_type": "markdown",
      "source": [
        "## Train-Test split\n",
        "This code splits the dataset into training and testing subsets, ensuring the distribution of he target variable (`y`) is preserved across both sets.\n",
        "\n",
        "###Explanation\n",
        "1. **Function**: `train_test_split` from `sklearn.model_selection` is used to split the dataset into training and testing subsets.\n",
        "\n",
        "2. **Parameters**:\n",
        "\n",
        "\n",
        "*   `X`: The feature matrix of dhpe `(n_samples, n_features)`.\n",
        "*   `y`: The target variable of shape `(n_samples)`.\n",
        "\n",
        "*  `test_size=0.2`: Specifies the proportion of the dataset to allocate to the test set (20% in this case).\n",
        "\n",
        "*  `random_state=42`: Ensures reproducibility by using a fixed seed for random number generation.\n",
        "\n",
        "*  `stratify=y`: Ensures the target varaible (`y`) is stratified, meaning its class distribution is preserved in both training and testing sets.\n",
        "\n",
        "3. **Outputs**:\n",
        "*  `X_train`: Training feature matrix.\n",
        "*  `X_test`: Testing feature matrix.\n",
        "*   `y_train`: Training target labels.\n",
        "*   `y_test`: Testing target labels.\n",
        "\n",
        "\n",
        "\n",
        "###Purpose\n",
        "* To evaluate the model's performance on unseen data (test set) after training it on the training set.\n",
        "\n",
        "*  Stratification enesures that the proportions of each class in `y` remain consistent across both subsets, which is particularly important for ordinal regression tasks.\n",
        "\n"
      ],
      "metadata": {
        "id": "X3fHf2xSyubC"
      }
    },
    {
      "cell_type": "code",
      "source": [
        "X_train, X_test, y_train, y_test=train_test_split(\n",
        "    X, y, test_size=0.2, random_state=42, stratify=y\n",
        ")"
      ],
      "metadata": {
        "id": "bjERnqih07Bf"
      },
      "execution_count": 8,
      "outputs": []
    },
    {
      "cell_type": "markdown",
      "source": [
        "## GridSearchCV for hyperparameter tuning and  model evaluation\n",
        "The followimg code snippet performs hyperparameter tuning and model eveluation using GridSearchCV, with multiple scoring metrics metrics, including accuracy and a custom adjacency score.\n",
        "\n",
        "###Explanation\n",
        "1. `GridSearchCV`:\n",
        "* A tool for performing exhaustive search over a specified parameter grid to find the best hyperparameters for the model.\n",
        "\n",
        "* It also handles cross-validation, ensuring the model is evaluated on multiple train-test splits.\n",
        "\n",
        "2. **Parameters**:\n",
        "\n",
        "* `pipeline`: The pipeline that includes data preprocessing and the LogiticIT model.\n",
        "* `param_grid`: The hyperparameter grid to search over (in this case, for the `alpha` parameter of the LogisticIT model).\n",
        "* `cv=5`: Th number of cross-validation folds (5-fold cross-validation).\n",
        "\n",
        "* `scoring`:\n",
        "  * `accuracy`: The standard accuracy metric, measuring the proportion of correct predictions.\n",
        "\n",
        "  * `adjacency`: The custom adjacency score that checks how often the predicted class is with one adjacent level of the true class, created using the `custom_adjacency_scorer` function.\n",
        "\n",
        "* `refit='adjacency'`:After the grid search completes, the best model is refitted using the adjacency score as the reference metric for model selection.\n",
        "\n",
        "* `n_jobs=-1`: Uses all available CPU cores to perform parallel processing, speeding up the grid search.\n",
        "\n",
        "###Purpose\n",
        "* Hyperparameter tuning: The goal is to find the optimal value for `alpha` using cross-validation.\n",
        "* Multiple scoring metrics: Evaluation is done using both accuracy and the custom adjacency sore, allowing a more nuanced understanding of the model's performance on ordinal data."
      ],
      "metadata": {
        "id": "x4Wbbd0OZu5g"
      }
    },
    {
      "cell_type": "code",
      "source": [
        "grid_search=GridSearchCV(\n",
        "    pipeline,\n",
        "    param_grid,\n",
        "    cv=5,\n",
        "    scoring={\n",
        "        'accuracy': 'accuracy',\n",
        "        'adjacency': make_scorer(custom_adjacency_scorer)\n",
        "    },\n",
        "    refit='adjacency',\n",
        "    n_jobs=-1\n",
        ")"
      ],
      "metadata": {
        "id": "DQNCILcV-XO8"
      },
      "execution_count": 9,
      "outputs": []
    },
    {
      "cell_type": "markdown",
      "source": [
        "## Fit the best model\n",
        "This code fits the grid seach using cross-validation and retrievs the best performing model based on the adjacency score.\n",
        "\n",
        "###Explanation\n",
        "1. `grid_search.fit(X_train, y_train)`:\n",
        "* Trains the pipeline using GridSearchCV.\n",
        "* Performs 5-fold cross-validation (`cv=5`) to evaluate different hyperparameter settings.\n",
        "* Optimizes using the adjacency score (set in `refit='adjacency'`).\n",
        "\n",
        "2. `grid_search.best_estimator_`:\n",
        "* Retrieves the best model found during the grid search.\n",
        "* This model is already trained and optimized using the best hyperparameter (`alpha` in `LogisticIT`).\n",
        "* It can now be used for predictions on new data.\n",
        "\n",
        "###Purpose\n",
        "* Finda the optimal model for ordinal logistic regression based on cross-validation results.\n",
        "\n",
        "* Automatically selects the best hyperparamter (`alpha` from `param_grid`).\n",
        "* Prepares the best model for final evaluation for deployment."
      ],
      "metadata": {
        "id": "_ijOT7Ksf5gp"
      }
    },
    {
      "cell_type": "code",
      "source": [
        "grid_search.fit(X_train, y_train)\n",
        "best_model=grid_search.best_estimator_"
      ],
      "metadata": {
        "id": "51JS4mJj1GQN"
      },
      "execution_count": 10,
      "outputs": []
    },
    {
      "cell_type": "markdown",
      "source": [
        "## Making predictions with the best model\n",
        "After seecting the best model from GridSearchCV, we use it to make bth class predictions and probability estimates for each class.\n",
        "\n",
        "###Explanation:\n",
        "1. `best_model.predict(X_test)`:\n",
        "* Predicts the most likely ordinal class for each sample in `X_test`.\n",
        "2. `best_model.predict_proba(X_test)`:\n",
        "* Returns the probability distribution over all possible ordinal classes for each sample.\n",
        "* Output: `y_pred_proba`, a NumPy arra of shape `(n_samples, n_classes)`, where each row represents the predicted probability for each class.\n",
        "\n",
        "###Purpose:\n",
        "* `predict`: Assigns a simgle class label to each test sampl.\n",
        "* `predict_proba()`: Provides probability estimates, which are useful for:\n",
        "  * Uncertainty estimation (e.g., confidence levels for each prediction).\n",
        "  * Threshols-based decision making (e.g., selecting class only if probability > 0.7).\n",
        "  * Visualization of class probabilities."
      ],
      "metadata": {
        "id": "DL924zd6i3GD"
      }
    },
    {
      "cell_type": "code",
      "source": [
        "y_pred=best_model.predict(X_test)\n",
        "y_pred_proba=best_model.predict_proba(X_test)"
      ],
      "metadata": {
        "id": "v-6FbTjm1NFZ"
      },
      "execution_count": 11,
      "outputs": []
    },
    {
      "cell_type": "markdown",
      "source": [
        "## Model Evaluation Metrics\n",
        "THis computes the evaluation metrics for ordinal logistic regression model.\n",
        "\n",
        "###Explanation of Each Metric:\n",
        "1. **Confusion Matrix**(`confusion_matrix`):\n",
        "\n",
        "* A table that compares the predicted and actual class labels.\n",
        "* Shows how well the model classifies each category.\n",
        "* Helps identify misclassifications and adjacent errors.\n",
        "2. **Accuracy Score** (`accuracy_score`):\n",
        "\n",
        "* Measures the proportion of correctly predicted labels out of all samples.\n",
        "*Formula:\n",
        "$$\n",
        "\\text{Accuracy}= \\frac{\\text{Correct Predictions}}{\\text{Total Samples}}\n",
        "$$\n",
        "\n",
        "* Good for balanced datasets but not ideal for ordinal regression where adjacent misclassifications are less severe.\n",
        "3. **Precision** (`precision_score with average='weighted'`):\n",
        "\n",
        "* Weighted average of per-class precision, considering class imbalance.\n",
        "* Precision for class\n",
        "$$\n",
        "\\text{Precision}_c=\\frac{\\text{TP}_c}{\\text{TP}_c +\\text{FP}_c}\n",
        "$$\n",
        "\n",
        "* Useful for measuring how many predicted positives were actually correct.\n",
        "4. **Recall** (`recall_score with average='weighted'`):\n",
        "\n",
        "* Measures the proportion of actual class instances correctly predicted.\n",
        "Formula:\n",
        "$$\n",
        "\\text{Recall}_c=\\frac{\\text{TP}_c}{\\text{TP}_c + \\text{FN}_c}\n",
        " $$\n",
        "* High recall means fewer missed instances of a class.\n",
        "5. **F1 Score** (`f1_score with average='weighted'`):\n",
        "\n",
        "* Harmonic mean of precision and recall.\n",
        "* Formula:\n",
        "$$\n",
        "F1=2 \\times \\frac{\\text{Precision} \\times \\text{Reca;;}}{\\text{Precision} + \\text{Recall}}\n",
        "$$\n",
        "\n",
        "* Useful when balancing false positives and false negatives.\n"
      ],
      "metadata": {
        "id": "S0sIP590i1TX"
      }
    },
    {
      "cell_type": "code",
      "source": [
        "conf_matrix=confusion_matrix(y_test, y_pred)\n",
        "accuracy=accuracy_score(y_test, y_pred)\n",
        "precision=precision_score(y_test, y_pred, average='weighted')\n",
        "recall=recall_score(y_test, y_pred, average='weighted')\n",
        "f1=f1_score(y_test, y_pred, average='weighted')"
      ],
      "metadata": {
        "id": "ocEhdkzs1U9h"
      },
      "execution_count": 12,
      "outputs": []
    },
    {
      "cell_type": "markdown",
      "source": [
        "## Displaying the Best model parameters\n",
        "This code retreives and prints the optimal hyperparameters found during GridSearchCV\n",
        "\n",
        "###Explanation\n",
        "1. `grid_search.best_params_`:\n",
        "*  A dictionary containing the best hyperparameter values found during the grid search.\n",
        "* Since we turned `ordinal__alpha`, this output will show the optimal `alpha` value.\n",
        "\n",
        "###Purpose\n",
        "* Helps in understanding which hyperparameter setting produced the best model.\n",
        "* Useful for fine tuning and comparison with other models.\n"
      ],
      "metadata": {
        "id": "2eWAWMd_OGvz"
      }
    },
    {
      "cell_type": "code",
      "source": [
        "print(\"\\nBest Model Parameters:\")\n",
        "print(grid_search.best_params_)"
      ],
      "metadata": {
        "colab": {
          "base_uri": "https://localhost:8080/"
        },
        "id": "At5-XoP9_MgD",
        "outputId": "d3bb6f46-286a-4c3b-c5b3-0b17411ba46c"
      },
      "execution_count": 13,
      "outputs": [
        {
          "output_type": "stream",
          "name": "stdout",
          "text": [
            "\n",
            "Best Model Parameters:\n",
            "{'ordinal__alpha': 0.001}\n"
          ]
        }
      ]
    },
    {
      "cell_type": "markdown",
      "source": [
        "## Displaying cross-validation results\n",
        "This part of the code prints the cross-validation results for each evaluation metric used during the grid search, specifically focusing on the mean test scores for each metric.\n",
        "\n",
        "###Explanation\n",
        "1. `grid_search.cv_results_`:\n",
        "* A dictionary that contains all results from the cross-validation process during the grid search.\n",
        "\n",
        "* The keys include:\n",
        "\n",
        "  * `mean_test_score`: Mean rest scores for each parameter combination.\n",
        "  * Other keys for each evaluation metric like `mean_test_accuracy`, `mean_test_adjacency`, e.t.c.\n",
        "\n",
        "2. Iterating over `cv_results_`:\n",
        "* The loop goes through all the keys in the `cv_results_`.\n",
        "* It checks if the key starts with `'mean_test'` to filter for the mean test scores.\n",
        "\n",
        "* `grid_search.best_index_` points to the index of the best-performing model in the grid search. The code then prints the corresponding score for each metric.\n",
        "\n",
        "3. Printing scores:\n",
        "* For each metric (e.g., accuracy, adjacency), the code prints the mean score corresponding to the best model.\n",
        "\n",
        "###Purpose\n",
        "* Displays the performance of the best model according to each evaluation metric.\n",
        "* Helps in comparing the model's performance acrosss different metrics after hyperparameter tuning."
      ],
      "metadata": {
        "id": "BwQGBK6XPVyc"
      }
    },
    {
      "cell_type": "code",
      "source": [
        "print(\"\\nCross-validation results:\")\n",
        "for metric, scores in grid_search.cv_results_.items():\n",
        "  if metric.startswith('mean_test'):\n",
        "    print(f\"{metric}:{scores[grid_search.best_index_]:.4f}\")"
      ],
      "metadata": {
        "colab": {
          "base_uri": "https://localhost:8080/"
        },
        "id": "BfFwbE3Q_XBV",
        "outputId": "95dbe5ed-9db0-413f-e653-233ed5e132ae"
      },
      "execution_count": 14,
      "outputs": [
        {
          "output_type": "stream",
          "name": "stdout",
          "text": [
            "\n",
            "Cross-validation results:\n",
            "mean_test_accuracy:0.9163\n",
            "mean_test_adjacency:1.0000\n"
          ]
        }
      ]
    },
    {
      "cell_type": "markdown",
      "source": [
        "## Displaying model evaluation metrics\n",
        "This code prints the evaluation metrics after testing the best model on the test set.\n",
        "\n",
        "###Explanation\n",
        "1. Metrics printed:\n",
        "* Accuracy: The proportion of correctly classified samples.\n",
        "\n",
        "* Precision: The proportion of positive predictions that are actually correct.\n",
        "\n",
        "* Recall: The proportion of actual positives that were correctly identified.\n",
        "\n",
        "* F1 Score: The harmonic mean of precision and recall, balancing both.\n",
        "\n",
        "2. Formatting:\n",
        "\n",
        "* `{:.4f}` ensures each value is printed with four decimal places for clarity.\n",
        "\n",
        "\n",
        "####Purpose\n",
        "* Summarizes the performance of the best model on the test set.\n",
        "* Helps compare the model's effectiveness across different classification metrics."
      ],
      "metadata": {
        "id": "Qir6tKK4RROQ"
      }
    },
    {
      "cell_type": "code",
      "source": [
        "print(\"\\nModel Evaluation Metrics:\")\n",
        "print(f\"Accuracy: {accuracy:.4f}\")\n",
        "print(f\"Precision: {precision:.4f}\")\n",
        "print(f\"Recall: {recall:.4f}\")\n",
        "print(f\"F1 Score: {f1:.4f}\")"
      ],
      "metadata": {
        "colab": {
          "base_uri": "https://localhost:8080/"
        },
        "id": "Zq5Ovrel1tq2",
        "outputId": "b870ef80-f869-4a91-85d3-91557832013a"
      },
      "execution_count": 15,
      "outputs": [
        {
          "output_type": "stream",
          "name": "stdout",
          "text": [
            "\n",
            "Model Evaluation Metrics:\n",
            "Accuracy: 0.9350\n",
            "Precision: 0.9361\n",
            "Recall: 0.9350\n",
            "F1 Score: 0.9353\n"
          ]
        }
      ]
    },
    {
      "cell_type": "markdown",
      "source": [
        "## Confusion matrix visualization\n",
        "This code generates a heatmap representation of the confusion matrix to analyze the model's classification performance\n",
        "\n",
        "###Explanation\n",
        "1. `plt.figure(figsize=(10, 8))`:\n",
        "* Creates a figure canvas with a width of 10 inches and heght of 8 inches.\n",
        "* Ensures the heatmap has enough space to display labels and annotations clearly.\n",
        "\n",
        "2. `sns.heatmap(conf_matrix, annot=True, fmt='d', cmap='YlOrRd', ...)`:\n",
        "* `conf_matrix`: The confusion matri containing classification results.\n",
        "* `annot=True`: Displays the actual count values inside the heatmap cells/\n",
        "*`fmt='d'`: Formats the numbers as integers\n",
        "* `cmap='YlOrRd'`: Uses a  yello-orange-red colour map for better contrast.\n",
        "\n",
        "3. `xticklabels=[f'Class{i}' for i in range(3)]` and `yticklabels=[f'Class{i}' for i in range(3)]`:\n",
        "* Dynamically generates labels (`Class0`, `Class1`, `Class2`) for the axes.\n",
        "* This ensures the confusion matrixlabels match the number of classes.\n",
        "\n",
        "4. `plt.title('Confusion Matrix for Ordinal Logistic Regression')`:\n",
        "* Sets the title for the plot.\n",
        "\n",
        "5. `plt.xlabel('Predicted')` and `ply.ylabel('Actual')`:\n",
        "* Labels the x-axis (predicted classes) and y-axis (actual classes).\n",
        "\n",
        "6. `plt.tight_layout()`:\n",
        "* Adjusts spacing to prevent overlapping labels.\n",
        "\n",
        "7. `plt.show()`:\n",
        "* Displays the heatmap.\n",
        "\n",
        "\n",
        "###Purpose\n",
        "* Visualizes the classification performance for ordinal logistic regression.\n",
        "* Helps identify misclassifications and whether errors occur between adjacent classes (which is common in ordinal problems)."
      ],
      "metadata": {
        "id": "DtmNDy1ESgJ7"
      }
    },
    {
      "cell_type": "code",
      "source": [
        "plt.figure(figsize=(10,8))\n",
        "sns.heatmap(conf_matrix, annot=True, fmt='d', cmap='YlOrRd',\n",
        "            xticklabels=[f'Class{i}' for i in range(3)],\n",
        "            yticklabels=[f'Class{i}' for i in range(3)])\n",
        "plt.title('Confusion Matrix for Ordinal Logistic Regression')\n",
        "plt.xlabel('Predicted')\n",
        "plt.ylabel('Actual')\n",
        "plt.tight_layout()\n",
        "plt.show()"
      ],
      "metadata": {
        "colab": {
          "base_uri": "https://localhost:8080/",
          "height": 807
        },
        "id": "U5nSyDvh2D_D",
        "outputId": "82b6c5b7-7b68-49a0-ca74-62fe2c48120d"
      },
      "execution_count": 16,
      "outputs": [
        {
          "output_type": "display_data",
          "data": {
            "text/plain": [
              "<Figure size 1000x800 with 2 Axes>"
            ],
            "image/png": "[encoded data removed]"
          },
          "metadata": {}
        }
      ]
    },
    {
      "cell_type": "markdown",
      "source": [
        "## Feature Importance\n",
        "The following code extracts and plots the feature importance based on the absolute coefficient values from the trained Ordinal Logistic Regression model.\n",
        "\n",
        "###Purpose\n",
        "* Identifies which features have the greatest influence on predictions.\n",
        "* Higher absolute coefficients indicate stronger impact on the target variable.\n",
        "* Helps in feature selection- low importance features can be removed to simplify the model."
      ],
      "metadata": {
        "id": "84QhPvP-WOUd"
      }
    },
    {
      "cell_type": "code",
      "source": [
        "feature_importance=pd.DataFrame({\n",
        "    'Feature':[f'Feature {i+1}' for i in range(5)],\n",
        "    'Coefficient': np.abs(best_model.named_steps['ordinal'].coef_[0])\n",
        "})\n",
        "#Takes the absolute calue of the coefficients to measure feature importance\n",
        "feature_importance=feature_importance.sort_values('Coefficient', ascending=False) #Sorts the features in descending order based on their coefficient values\n",
        "plt.figure(figsize=(10, 6))\n",
        "sns.barplot(data=feature_importance, x='Coefficient', y='Feature', palette='viridis') #Creates a horizontal bar chart of feature importance\n",
        "plt.title('Feature Importance for Ordinal Logistic Regression')\n",
        "plt.xlabel('Absolute Coefficient Value')\n",
        "plt.tight_layout() # Ensures labels and titles don't overlap\n",
        "plt.show()"
      ],
      "metadata": {
        "colab": {
          "base_uri": "https://localhost:8080/",
          "height": 607
        },
        "id": "uzW2uiRG2dYI",
        "outputId": "b2e39efc-5454-4a88-c463-a428f54c6c33"
      },
      "execution_count": 17,
      "outputs": [
        {
          "output_type": "display_data",
          "data": {
            "text/plain": [
              "<Figure size 1000x600 with 1 Axes>"
            ],
            "image/png": "[encoded data removed]"
          },
          "metadata": {}
        }
      ]
    },
    {
      "cell_type": "markdown",
      "source": [
        "## Distribution of predicted probabilities\n",
        "The code generates a Kenrnel Density Estimate (KDE) plot to analyze the distribution of predicted probabilities for each ordinal class.\n",
        "\n",
        "###Explanation\n",
        "* Analyzes the probability distribution assigned by the model to each class.\n",
        "* Checks the model confidence- if the peaks are sharp, the model is confident in its preditions; if spread out, it is uncertain.\n",
        "* Helps in threshold selsction, can inform decision-making if a certain probability threshold should be used instead of taking the highest probability."
      ],
      "metadata": {
        "id": "9joh0MMwO_X_"
      }
    },
    {
      "cell_type": "code",
      "source": [
        "plt.figure(figsize=(12, 6))\n",
        "colors=['#ff9999', '#66b3ff', '#99ff99']\n",
        "for i in range(3):\n",
        "  sns.kdeplot(y_pred_proba[:, i], label=f'Class{i}', color=colors[i], fill=True, alpha=0.3)\n",
        "plt.title('Distribution of Predicted Probabilities')\n",
        "plt.xlabel('Predicted Probability')\n",
        "plt.ylabel('Density')\n",
        "plt.legend()\n",
        "plt.tight_layout()\n",
        "plt.show()"
      ],
      "metadata": {
        "colab": {
          "base_uri": "https://localhost:8080/",
          "height": 607
        },
        "id": "ey3PoYMR3sVf",
        "outputId": "1afc1a72-f966-4225-c390-8aa08c3ef800"
      },
      "execution_count": 18,
      "outputs": [
        {
          "output_type": "display_data",
          "data": {
            "text/plain": [
              "<Figure size 1200x600 with 1 Axes>"
            ],
            "image/png": "[encoded data removed]"
          },
          "metadata": {}
        }
      ]
    },
    {
      "cell_type": "markdown",
      "source": [
        "## Class-Specific Evaluation metrics\n",
        "It computes and prints precision, recall and F1 Score for each class in the ordinal classification problem.\n",
        "\n",
        "###Purpose\n",
        "* Provides detailed performence insights for each ordinal class.\n",
        "* Helps detect class imbalance issues, if precision or recall is low for a class, the model may struggle with that category.\n",
        "* Useful for error analysis, if recall is low, the model is missiing instances of that class."
      ],
      "metadata": {
        "id": "7-LEw3zVQk3A"
      }
    },
    {
      "cell_type": "code",
      "source": [
        "print(\"\\nClass-specific Metrics:\")\n",
        "for i in range(3):\n",
        "    class_mask = y_test == i\n",
        "    class_precision = precision_score(y_test, y_pred, labels=[i], average='macro', zero_division=0)\n",
        "    class_recall = recall_score(y_test, y_pred, labels=[i], average='macro', zero_division=0)\n",
        "    class_f1 = f1_score(y_test, y_pred, labels=[i], average='macro', zero_division=0)\n",
        "\n",
        "    print(f\"\\nClass {i}:\")\n",
        "    print(f\"Class instances in test set: {sum(class_mask)}\")\n",
        "    print(f\"Precision: {class_precision:.4f}\")\n",
        "    print(f\"Recall: {class_recall:.4f}\")\n",
        "    print(f\"F1 Score: {class_f1:.4f}\")\n"
      ],
      "metadata": {
        "colab": {
          "base_uri": "https://localhost:8080/"
        },
        "id": "O5zQmEUuRsEI",
        "outputId": "c7b2c978-faef-444c-8944-0859443e629c"
      },
      "execution_count": 19,
      "outputs": [
        {
          "output_type": "stream",
          "name": "stdout",
          "text": [
            "\n",
            "Class-specific Metrics:\n",
            "\n",
            "Class 0:\n",
            "Class instances in test set: 45\n",
            "Precision: 0.8723\n",
            "Recall: 0.9111\n",
            "F1 Score: 0.8913\n",
            "\n",
            "Class 1:\n",
            "Class instances in test set: 133\n",
            "Precision: 0.9615\n",
            "Recall: 0.9398\n",
            "F1 Score: 0.9506\n",
            "\n",
            "Class 2:\n",
            "Class instances in test set: 22\n",
            "Precision: 0.9130\n",
            "Recall: 0.9545\n",
            "F1 Score: 0.9333\n"
          ]
        }
      ]
    },
    {
      "cell_type": "markdown",
      "source": [
        "## Calculating Adjacency accuracy for Ordianl Logistic Regression\n",
        "It computes and prints the adjacency accuracy, which measures how often the predicted class is within one level of the true class.\n",
        "\n",
        "###Explanation\n",
        "* `np.abs(y_test-y_pred)`: Claculates the absolute difference between  the true class (`y_test`) and the predicted class (`y_pred`).\n",
        "* `<=1`: Checks whether the difference is at most 1 (i.e., predictions within ne adjacent class).\n",
        "* `np.mean(...)`: Computes the proportion of test samples where predictions are within +/- of the actual class.\n",
        "\n",
        "###Purpose\n",
        "*Adjacency accuracy is useful for ordinal classification, where nearby misclassifications (e.g., predicting `class 1` instead of `class 2`) are less severe than predicting a class far from the true label.\n",
        "\n",
        "* A high adjcency accurcay indicates that most misclassifications are within one ordinal step, which is acceptable in ordinal regression task.\n"
      ],
      "metadata": {
        "id": "u1suF8dzTMsB"
      }
    },
    {
      "cell_type": "code",
      "source": [
        "adjacent_accuracy=np.mean(np.abs(y_test-y_pred)<=1)\n",
        "print(f\"\\nadjacency Accuracy: {adjacent_accuracy:.4f}\")"
      ],
      "metadata": {
        "colab": {
          "base_uri": "https://localhost:8080/"
        },
        "id": "V9SyY9AC5GaG",
        "outputId": "99e06cd4-6a7f-40eb-9005-84af06c7dc73"
      },
      "execution_count": 20,
      "outputs": [
        {
          "output_type": "stream",
          "name": "stdout",
          "text": [
            "\n",
            "adjacency Accuracy: 1.0000\n"
          ]
        }
      ]
    },
    {
      "cell_type": "markdown",
      "source": [
        "## Calculating Mean Absolute Error (MAE) and Mean Squared Error (MSE) for Ordinal Logistic Regression\n",
        "\n",
        "### Mean Absolute Error (MAE):\n",
        "* Measures the average absolute difference between the predicted and actual class labels.\n",
        "* Lower values indicate better performance.\n",
        "* Formula:\n",
        "$$ \\text{MAE}= \\frac{1}{N} \\sum_{i=1}^{N} \\left| y_{\\text{true}, i}-y_{\\text{pred}, i} \\right| $$\n",
        "\n",
        "###Mean Squared Error (MSE):\n",
        "* Measures the average squared difference between predictions and actual values.\n",
        "* Penalizes larger errors more than MAE.\n",
        "\n",
        "$$ \\text{MSE}=\\frac{1}{N} \\sum_{i=1}^{N} \\left(y_{\\text{true}, i}-y_{\\text{pred}, i} \\right)^2 $$\n",
        "\n",
        "###Purpose\n",
        "* MAE provides and interpretable measure of how far predictions are from actual values, with equal weight on all errors.\n",
        "* MSE penalizes larger errors more heavily, making it useful when extreme misclassifications (e.g., predicting Class 0 instead of Class 2) should be discouraged.\n",
        "* These metrics help assess how well the model respects the ordinal structure."
      ],
      "metadata": {
        "id": "MeRGfhsVL_lg"
      }
    },
    {
      "cell_type": "code",
      "source": [
        "mae=np.mean(np.abs(y_test-y_pred))\n",
        "mse=np.mean((y_test-y_pred)**2)\n",
        "print(f\"Mean Absolute Error: {mae:.4f}\")\n",
        "print(f\"Mean Squared Error: {mse:.4f}\")"
      ],
      "metadata": {
        "colab": {
          "base_uri": "https://localhost:8080/"
        },
        "id": "rdmrx4ha5h4Y",
        "outputId": "61f786a3-a41a-4eae-fda6-20ab39e72990"
      },
      "execution_count": 21,
      "outputs": [
        {
          "output_type": "stream",
          "name": "stdout",
          "text": [
            "Mean Absolute Error: 0.0650\n",
            "Mean Squared Error: 0.0650\n"
          ]
        }
      ]
    },
    {
      "cell_type": "markdown",
      "source": [
        "## Displaying class distribution in training and test sets\n",
        "The code shows the class distribution in both the training set (`y_train`) and test set (`y_test`) to check fo class imbalances.\n",
        "\n",
        "###Explanation\n",
        "* Looping over classes (`0, 1, 2`). Iterates through all three ordinal classes.\n",
        "* Computing class proportions (`np.mean(y_train==i)`)\n",
        "  * Computes the mean proportion of each class in the training set.\n",
        "  * Since `y_train==i` is a boolean array (`True=1, False=0`), taking the mean gives the fraction of samples in that class.\n",
        "  "
      ],
      "metadata": {
        "id": "c9JJtiDnPd1A"
      }
    },
    {
      "cell_type": "code",
      "source": [
        "print(\"\\nClass Distribution:\")\n",
        "print(\"Training Set:\")\n",
        "for i in range(3):\n",
        "  print(f\"Class {i}: {np.mean(y_train==i):.2f}\")\n",
        "print(\"\\nTest set:\")\n",
        "for i in range(3):\n",
        "  print(f\"Class {i}: {np.mean(y_test==i):.2%}\")"
      ],
      "metadata": {
        "colab": {
          "base_uri": "https://localhost:8080/"
        },
        "id": "8eoUBkecCKYB",
        "outputId": "e891d4ae-b48d-4cbb-b4c8-635897922e56"
      },
      "execution_count": 22,
      "outputs": [
        {
          "output_type": "stream",
          "name": "stdout",
          "text": [
            "\n",
            "Class Distribution:\n",
            "Training Set:\n",
            "Class 0: 0.22\n",
            "Class 1: 0.66\n",
            "Class 2: 0.11\n",
            "\n",
            "Test set:\n",
            "Class 0: 22.50%\n",
            "Class 1: 66.50%\n",
            "Class 2: 11.00%\n"
          ]
        }
      ]
    }
  ]
}