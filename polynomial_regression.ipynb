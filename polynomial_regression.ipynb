{
  "nbformat": 4,
  "nbformat_minor": 0,
  "metadata": {
    "colab": {
      "private_outputs": true,
      "provenance": [],
      "authorship_tag": "ABX9TyMtgqayrjSi8YoNNZsZL8Gw",
      "include_colab_link": true
    },
    "kernelspec": {
      "name": "python3",
      "display_name": "Python 3"
    },
    "language_info": {
      "name": "python"
    }
  },
  "cells": [
    {
      "cell_type": "markdown",
      "metadata": {
        "id": "view-in-github",
        "colab_type": "text"
      },
      "source": [
        "<a href=\"https://colab.research.google.com/github/cedamusk/AI-N-ML/blob/main/polynomial_regression.ipynb\" target=\"_parent\"><img src=\"https://colab.research.google.com/assets/colab-badge.svg\" alt=\"Open In Colab\"/></a>"
      ]
    },
    {
      "cell_type": "code",
      "execution_count": null,
      "metadata": {
        "id": "v2Eb-WunLhP7"
      },
      "outputs": [],
      "source": [
        "from google.colab import files\n",
        "uploaded=files.upload()"
      ]
    },
    {
      "cell_type": "code",
      "source": [
        "import numpy as np\n",
        "import pandas as pd\n",
        "import matplotlib.pyplot as plt\n",
        "from sklearn.preprocessing import PolynomialFeatures\n",
        "from sklearn.linear_model import LinearRegression\n",
        "from sklearn.metrics import r2_score, mean_squared_error\n",
        "from sklearn.model_selection import train_test_split\n"
      ],
      "metadata": {
        "id": "s5QJLSM9LtCK"
      },
      "execution_count": null,
      "outputs": []
    },
    {
      "cell_type": "code",
      "source": [
        "df=pd.read_csv('synthetic_polynomial_data.csv')\n",
        "print(\"First few rows\")\n",
        "print(df.head())\n",
        "print(\"\\nDataset info:\")\n",
        "print(df.describe())"
      ],
      "metadata": {
        "id": "1xklSDwCVfyN"
      },
      "execution_count": null,
      "outputs": []
    },
    {
      "cell_type": "code",
      "source": [
        "X=df['X'].values.reshape(-1,1)\n",
        "y=df['Y'].values"
      ],
      "metadata": {
        "id": "AmpCQSH2WgiL"
      },
      "execution_count": null,
      "outputs": []
    },
    {
      "cell_type": "code",
      "source": [
        "degrees=[2,3,4]\n",
        "best_r2=-np.inf\n",
        "best_degree=2\n",
        "best_model=None\n",
        "best_poly_features=None\n",
        "\n"
      ],
      "metadata": {
        "id": "9QMJnJJcXaI1"
      },
      "execution_count": null,
      "outputs": []
    },
    {
      "cell_type": "code",
      "source": [
        "plt.figure(figsize=(15, 10))"
      ],
      "metadata": {
        "id": "av2Cv2yVXsZ4"
      },
      "execution_count": null,
      "outputs": []
    },
    {
      "cell_type": "code",
      "source": [
        "for i, degree in enumerate(degrees, 1):\n",
        "  poly_features=PolynomialFeatures(degree=degree, include_bias=False)\n",
        "\n",
        "  X_poly=poly_features.fit_transform(X)\n",
        "\n",
        "  model=LinearRegression()\n",
        "  model.fit(X_poly, y)\n",
        "\n",
        "  y_pred=model.predict(X_poly)\n",
        "\n",
        "  r2=r2_score(y, y_pred)\n",
        "  mse=mean_squared_error(y, y_pred)\n",
        "\n",
        "  if r2 > best_r2:\n",
        "    best_r2=r2\n",
        "    best_degree=degree\n",
        "    best_model=model\n",
        "    best_poly_features=poly_features\n",
        "\n",
        "  plt.subplot(len(degrees), 1, i)\n",
        "  plt.scatter(X, y, color='blue', alpha=0.5, label='Actual data')\n",
        "  X_range=np.linspace(X.min(), X.max(), 100).reshape(-1, 1)\n",
        "  X_range_poly=poly_features.transform(X_range)\n",
        "  y_range_pred=model.predict(X_range_poly)\n",
        "\n",
        "  plt.plot(X_range, y_range_pred, color='red', label=f'Polynomial degree {degree}')\n",
        "  plt.title(f'Polynomial Regression (Degree {degree})\\nr2={r2:.4f}, MSE={mse:.4f}')\n",
        "  plt.xlabel(\"X\")\n",
        "  plt.ylabel(\"Y\")\n",
        "  plt.legend()\n",
        "  plt.grid(True, alpha=0.3)\n",
        "\n",
        "\n",
        "\n",
        "\n"
      ],
      "metadata": {
        "id": "sI-90orZXyqR"
      },
      "execution_count": null,
      "outputs": []
    },
    {
      "cell_type": "code",
      "source": [
        "plt.tight_layout()\n",
        "plt.show()"
      ],
      "metadata": {
        "id": "MESQMSlPZARe"
      },
      "execution_count": null,
      "outputs": []
    },
    {
      "cell_type": "code",
      "source": [
        "print(f'\\nbest polynomial degree: {best_degree}')\n",
        "print(f\"best r2 score: {best_r2:.4f}\")"
      ],
      "metadata": {
        "id": "0L_eHQlVazVk"
      },
      "execution_count": null,
      "outputs": []
    },
    {
      "cell_type": "code",
      "source": [
        "coefficients=best_model.coef_\n",
        "equation=\"Y =\"\n",
        "for i, coef in enumerate(coefficients):\n",
        "  if i==0:\n",
        "    equation += f\"{coef:.4f}X\"\n",
        "  else:\n",
        "    equation += f\" + {coef:.4f}X^{i+1}\""
      ],
      "metadata": {
        "id": "GW1BBZenbhPd"
      },
      "execution_count": null,
      "outputs": []
    },
    {
      "cell_type": "code",
      "source": [
        "print(\"\\nBest fitting polynomial equation:\")\n",
        "print(equation)"
      ],
      "metadata": {
        "id": "1igZu2D2b8dF"
      },
      "execution_count": null,
      "outputs": []
    },
    {
      "cell_type": "code",
      "source": [
        "future_years=np.array([[11], [12], [13]])\n",
        "future_X_poly=best_poly_features.transform(future_years)\n",
        "future_predictions=best_model.predict(future_X_poly)\n"
      ],
      "metadata": {
        "id": "EDwYowbYcHud"
      },
      "execution_count": null,
      "outputs": []
    },
    {
      "cell_type": "code",
      "source": [
        "print(\"\\nPredictions or future X values:\")\n",
        "for year, pred in zip(future_years.flatten(), future_predictions):\n",
        "  print(f\"X={year}: Y={pred:.4f}\")\n",
        ""
      ],
      "metadata": {
        "id": "A1FIid1gctwH"
      },
      "execution_count": null,
      "outputs": []
    }
  ]
}