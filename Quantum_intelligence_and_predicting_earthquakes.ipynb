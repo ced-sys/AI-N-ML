{
  "nbformat": 4,
  "nbformat_minor": 0,
  "metadata": {
    "colab": {
      "private_outputs": true,
      "provenance": [],
      "authorship_tag": "ABX9TyM4OGQL09cB3CyiJoM4Fg93",
      "include_colab_link": true
    },
    "kernelspec": {
      "name": "python3",
      "display_name": "Python 3"
    },
    "language_info": {
      "name": "python"
    }
  },
  "cells": [
    {
      "cell_type": "markdown",
      "metadata": {
        "id": "view-in-github",
        "colab_type": "text"
      },
      "source": [
        "<a href=\"https://colab.research.google.com/github/cedamusk/AI-N-ML/blob/main/Quantum_intelligence_and_predicting_earthquakes.ipynb\" target=\"_parent\"><img src=\"https://colab.research.google.com/assets/colab-badge.svg\" alt=\"Open In Colab\"/></a>"
      ]
    },
    {
      "cell_type": "code",
      "execution_count": null,
      "metadata": {
        "id": "Jh8bLaBkNO0d"
      },
      "outputs": [],
      "source": [
        "!pip install obspy pennylane scikit-learn numpy pandas matplotlib"
      ]
    },
    {
      "cell_type": "code",
      "source": [
        "import numpy as np\n",
        "import pennylane as qml\n",
        "import pandas as pd\n",
        "from obspy.signal.trigger import classic_sta_lta\n",
        "from sklearn.preprocessing import MinMaxScaler\n",
        "from sklearn.metrics import mean_squared_error, r2_score\n",
        "import matplotlib.pyplot as plt"
      ],
      "metadata": {
        "id": "hn8hsqIMNbed"
      },
      "execution_count": null,
      "outputs": []
    },
    {
      "cell_type": "code",
      "source": [
        "def generate_synthetic_data(n_samples=1000):\n",
        "  np.random.seed(42)\n",
        "\n",
        "  time=np.linspace(0, 100, n_samples)\n",
        "  background=np.random.normal(0, 0.05, n_samples)\n",
        "\n",
        "  earthquakes=np.zeros(n_samples)\n",
        "  for i in range(3):\n",
        "    pos=np.random.randint(200, n_samples-200)\n",
        "    magnitude=np.random.uniform(0.5, 1.0)\n",
        "\n",
        "    earthquakes[pos:pos+20]+=magnitude*np.exp(-np.linspace(0, 2, 20))\n",
        "\n",
        "    earthquakes[pos+20:pos+70]+=magnitude*1.5*np.exp(-np.exp(-np.linspace(0, 3, 50)))\n",
        "\n",
        "  signal=background+earthquakes\n",
        "  return time, signal"
      ],
      "metadata": {
        "id": "_FMCljtEODGf"
      },
      "execution_count": null,
      "outputs": []
    },
    {
      "cell_type": "code",
      "source": [
        "n_qubits=4\n",
        "dev=qml.device(\"default.qubit\", wires=n_qubits)\n",
        "\n",
        "@qml.qnode(dev)\n",
        "def quantum_circuit(inputs):\n",
        "  for i in range(n_qubits):\n",
        "    qml.RY(inputs[i], wires=i)\n",
        "\n",
        "  for i in range(n_qubits-1):\n",
        "    qml.CNOT(wires=[i, i+1])\n",
        "\n",
        "  return [qml.expval(qml.PauliZ(i))for i in range (n_qubits)]\n"
      ],
      "metadata": {
        "id": "OqHBeX2ORFir"
      },
      "execution_count": null,
      "outputs": []
    },
    {
      "cell_type": "code",
      "source": [
        "def prepare_data(time, signal, window_size=20):\n",
        "  X, y=[], []\n",
        "  for i in range(len(signal)-window_size-1):\n",
        "    feature_window=signal[i:i+window_size]\n",
        "\n",
        "    features=[\n",
        "        np.mean(feature_window),\n",
        "        np.std(feature_window),\n",
        "        np.max(feature_window),\n",
        "        np.min(feature_window)\n",
        "    ]\n",
        "\n",
        "    X.append(features)\n",
        "    y.append(signal[i+window_size])\n",
        "  return np.array(X), np.array(y)"
      ],
      "metadata": {
        "id": "maeUR-LzR1y5"
      },
      "execution_count": null,
      "outputs": []
    },
    {
      "cell_type": "code",
      "source": [
        "time, signal=generate_synthetic_data()"
      ],
      "metadata": {
        "id": "IVZpFx2KSVSv"
      },
      "execution_count": null,
      "outputs": []
    },
    {
      "cell_type": "code",
      "source": [
        "X, y=prepare_data(signal)\n",
        "scaler_X=StandardScaler()\n",
        "scaler_y=StandardScaler()\n",
        "\n",
        "X_scaled=scaler_x.fit_transform(X)\n",
        "y_scaled=scaled_y.fit_transform(y.reshape(-1, 1)).flatten()"
      ],
      "metadata": {
        "id": "L9izQoA3SaAG"
      },
      "execution_count": null,
      "outputs": []
    },
    {
      "cell_type": "code",
      "source": [],
      "metadata": {
        "id": "KH8smDzLr9pt"
      },
      "execution_count": null,
      "outputs": []
    },
    {
      "cell_type": "code",
      "source": [
        "train_size=int(0.8*len(X))\n",
        "X_train, X_test=X_scaled[:train_size], X_scaled[train_size:]\n",
        "y_train, y_test=y[:train_size], y[train_size:]"
      ],
      "metadata": {
        "id": "LXAQve4kSsQ4"
      },
      "execution_count": null,
      "outputs": []
    },
    {
      "cell_type": "code",
      "source": [
        "def quantum_predict(X, scaler_y):\n",
        "  predictions=[]\n",
        "  for sample in X:\n",
        "    quantum_features=quantum_circuit(sample)\n",
        "    prediction=np.mean(quantum_features)\n",
        "    predictions.append(prediction)\n",
        "  predictions=np.array(predictions)\n",
        "  predictions=scaler_y.inverse_transform(predictions.reshape(-1, 1)).flatten()\n",
        "  return np.array(predictions)"
      ],
      "metadata": {
        "id": "KdSJFyHXS_9f"
      },
      "execution_count": null,
      "outputs": []
    },
    {
      "cell_type": "code",
      "source": [
        "def baseline_predict(X):\n",
        "  return np.array([np.mean(X)]*len(X))"
      ],
      "metadata": {
        "id": "CBhZUS8lXNYr"
      },
      "execution_count": null,
      "outputs": []
    },
    {
      "cell_type": "code",
      "source": [
        "y_pred_quantum=quantum_predict(X_test)\n",
        "y_pred_baseline=baseline_predict(y_test)"
      ],
      "metadata": {
        "id": "CTYnAmZVUYxM"
      },
      "execution_count": null,
      "outputs": []
    },
    {
      "cell_type": "code",
      "source": [
        "mse_quantum=mean_squared_error(y_test, y_pred_quantum)\n",
        "r2_quantum=r2_score(y_test, y_pred_quantum)\n",
        "mse_baseline=mean_squared_error(y_test, y_pred_baseline)\n",
        "r2_baseline=r2_score(y_test, y_pred_baseline)"
      ],
      "metadata": {
        "id": "bA_Vwc2iUdBe"
      },
      "execution_count": null,
      "outputs": []
    },
    {
      "cell_type": "code",
      "source": [
        "plt.figure(figsize=(15, 10))"
      ],
      "metadata": {
        "id": "MXKJLluqUqr-"
      },
      "execution_count": null,
      "outputs": []
    },
    {
      "cell_type": "code",
      "source": [
        "plt.subplot(2,1,1)\n",
        "plt.plot(time, signal, label=\"Original Signal\")\n",
        "plt.title('Synthetic Earthquake Data')\n",
        "plt.legend()"
      ],
      "metadata": {
        "id": "6NkYLxS-Uu-5"
      },
      "execution_count": null,
      "outputs": []
    },
    {
      "cell_type": "code",
      "source": [
        "plt.subplot(2,1,2)\n",
        "plt.plot(y_test[:100], label=\"Actual\", color='blue')\n",
        "plt.plot(y_pred_quantum[:100], label=\" Quantum Prediction\", color='red')\n",
        "plt.plot(y_pred_baseline[:100], label='Baseline Prediction', color='green', linestyle='--')\n",
        "plt.title('Prediction results Comparison')\n",
        "plt.legend()"
      ],
      "metadata": {
        "id": "Q5JuvzjLU_fH"
      },
      "execution_count": null,
      "outputs": []
    },
    {
      "cell_type": "code",
      "source": [
        "plt.tight_layout()\n",
        "plt.show()"
      ],
      "metadata": {
        "id": "kSz9vNIXViOC"
      },
      "execution_count": null,
      "outputs": []
    },
    {
      "cell_type": "code",
      "source": [
        "print(\"Quantum Model Metrics:\")\n",
        "print(f\"mean squared error:{mse_quantum:.4f}\")\n",
        "print(f\"R^2 score:{r2_quantum:.4f}\")\n",
        "print(\"\\nBaseline Model metrics:\")\n",
        "print(\"\\Mean Squared Error:{mse_baseline:.4f}\")\n",
        "print(f\"R^2 Score:{r2_baseline}\")"
      ],
      "metadata": {
        "id": "cPtJvasyVtJn"
      },
      "execution_count": null,
      "outputs": []
    },
    {
      "cell_type": "code",
      "source": [],
      "metadata": {
        "id": "0ahuwC-BV1Cr"
      },
      "execution_count": null,
      "outputs": []
    }
  ]
}