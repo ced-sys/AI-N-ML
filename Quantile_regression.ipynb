{
  "nbformat": 4,
  "nbformat_minor": 0,
  "metadata": {
    "colab": {
      "private_outputs": true,
      "provenance": [],
      "authorship_tag": "ABX9TyOukTVrK+IMBW46i/3MyIPp",
      "include_colab_link": true
    },
    "kernelspec": {
      "name": "python3",
      "display_name": "Python 3"
    },
    "language_info": {
      "name": "python"
    }
  },
  "cells": [
    {
      "cell_type": "markdown",
      "metadata": {
        "id": "view-in-github",
        "colab_type": "text"
      },
      "source": [
        "<a href=\"https://colab.research.google.com/github/cedamusk/AI-N-ML/blob/main/Quantile_regression.ipynb\" target=\"_parent\"><img src=\"https://colab.research.google.com/assets/colab-badge.svg\" alt=\"Open In Colab\"/></a>"
      ]
    },
    {
      "cell_type": "markdown",
      "source": [
        "# Quantile Regression\n",
        "##Importing Libraries\n",
        "\n",
        "1. `pandas`: Used for handling and manipulating datasets in tabular form.\n",
        "\n",
        "2. `numpy`: Provides mathematical functions and operations for working with arrays and numerical data.\n",
        "\n",
        "`QuantReg`: A tool from the `statsmodels` library for performing quantile regression.\n",
        "\n",
        "`matplotlib.pyplot`. Used for creating visualizations and plotting graphs."
      ],
      "metadata": {
        "id": "r_CsiY1Gsv43"
      }
    },
    {
      "cell_type": "code",
      "execution_count": null,
      "metadata": {
        "id": "9qz4FQpUlbhx"
      },
      "outputs": [],
      "source": [
        "import pandas as pd\n",
        "import numpy as np\n",
        "from statsmodels.regression.quantile_regression import QuantReg\n",
        "import matplotlib.pyplot as plt"
      ]
    },
    {
      "cell_type": "markdown",
      "source": [
        "## DataFrame\n",
        "This DataFrame represents a small dataset with the following structure.\n",
        "\n",
        "##Columns Description\n",
        "1. **Year**: Represents the year from 2010 to 2018. Acts as a time variable in the dataset.\n",
        "\n",
        "2. **X**: Represents an independent variable or feature. Could be some measured value increasing over time.\n",
        "\n",
        "3. **Y_median**: Represents the median (50th percentile) value of a dependent variable Y for each year.\n",
        "\n",
        "4. **Y_Upper_Quantile**: Represents the 90th percentile (upper quantile) of Y for each year.\n",
        "\n",
        "5 **Y_Lower_Quantile**: Represents the 10th percentile (lower quantile) of Y for each year. Indicates the value below which 10% of the Y observations fall."
      ],
      "metadata": {
        "id": "l3Ocd7M7tob9"
      }
    },
    {
      "cell_type": "code",
      "source": [
        "data=pd.DataFrame({\n",
        "    'Year':[2010, 2011, 2012, 2013, 2014, 2015, 2016, 2017, 2018, 2019],\n",
        "    'X':[5.0, 10.0, 15.0, 20.0, 25.0, 30.0, 35.0, 40.0, 45.0, 50.0],\n",
        "    'Y_Median':[19.83, 24.16, 45.71, 53.76, 63.96, 65.45, 87.01, 82.99, 102.93, 120.95],\n",
        "    'Y_Upper_Quantile':[15.08, 29.7, 45.80, 51.97, 54.59, 78.55, 80.50, 103.79, 103.64, 134.40],\n",
        "    'Y_Lower_Quantile':[14.65, 25.03, 37.44, 40.31, 53.68, 65.92, 66.18, 80.55, 89.78, 100.35]\n",
        "})"
      ],
      "metadata": {
        "id": "4m2e60PWl4a9"
      },
      "execution_count": null,
      "outputs": []
    },
    {
      "cell_type": "markdown",
      "source": [
        "## Fit Quantile Regression\n",
        "The function `fit_quantile_regression(X, y, q)` is designed to fit a quantile regression using `QuantReg` class from `statsmodels`.\n",
        "\n",
        "##Functionality\n",
        "1. `QuantReg(y, sm.add_constant(X))`:\n",
        "\n",
        "  `QuantReg`: This creates a quantile regression model using the dependent variable `y` and the independent variable `x`.\n",
        "\n",
        "  `sm.add_constant(X)`: This adds a constant term (intercept) to the independent variable matrix `X`, which is needed for the model to calculate the intercept. Without this, the model would not have an intercept, and the regression line would always pass through the origin (0,0).\n",
        "\n",
        "2. `model.fit(q=q)`:\n",
        "\n",
        "  This fits the wuantile regression model for the specified quantile `q`. The quantile `q` is a value between 0 and 1 that specifies the desired quantile (e.g., 0.5 for the median, 0.25 for the first quartile).\n",
        "\n",
        "  The `.fit(q=q)` method returns the fitted model for that specific quantile, which can then be used to analyze the model's coefficients, predictions, e.t.c."
      ],
      "metadata": {
        "id": "vwpq-S2Luu5b"
      }
    },
    {
      "cell_type": "code",
      "source": [
        "def fit_quantile_regression(X, y, q):\n",
        "  model=QuantReg(y, sm.add_constant(X))\n",
        "  return model.fit(q=q)"
      ],
      "metadata": {
        "id": "frblQz_bnB8l"
      },
      "execution_count": null,
      "outputs": []
    },
    {
      "cell_type": "markdown",
      "source": [
        "## Quantile Regression, Visualization, Interpretation\n",
        "\n",
        "The code performs quantile_regression for three quantiles (0.5, 0.75, and 0.25) and visualizes the results.\n",
        "\n",
        "###Functionality\n",
        "**Data Preparation**: Extract the independent variable (`X`) and the dependent variables (`Y_Median`, `Y_Upper_Quantile`, and `Y_Lower_Quantile`) from the `data` DataFrame.\n",
        "\n",
        "**Adding Constant**: Adds an intercept term to `X` for the regression model, as required by `statsmodels`.\n",
        "\n",
        "**Quantile Regression Models**: Fits three different quantile regression models. **Median Regression** for **q** =0.5 (the median or 50th percentile). **Upper Quantile Regression** for **q**=0.75 (the 75th percentile) **Lower Quantile Regression** for **q** =0.25 (the 25th percentile).\n",
        "\n",
        "The `fit_quantile_regression` function (defined earlier) is used to fit these models.\n",
        "\n",
        "\n",
        "**Genarating Predictions**:\n",
        "\n",
        "  New X Values: `x_new` is created as a sequence of 100 evenly spaced values between the minimum and maximum of `X`, which will be used for predictors.\n",
        "\n",
        "  Constant Term: Adds a constant term to `X_new` for predictions.\n",
        "\n",
        "  Predictions: The fitted models are used to predict the dependent variable for the new `X_new` values.\n",
        "\n",
        "  **Plotting Results**\n",
        "\n",
        "  **Scatter plot**: The actual data point for `y_median`, `y_upper` and `y_lower` are plotted as scatter plots with different plots.\n",
        "\n",
        "  **Regression Lines**: The predicted values (`pred_median`, `pred_upper`, `pred_lower`) are plotted as lines representing the regression results for the median, upper wauntile and lower quantile, respectively.\n",
        "\n",
        "  **Customization**: labels, title, and grid added for better visualization.\n",
        "\n"
      ],
      "metadata": {
        "id": "5o5WzUczw0E-"
      }
    },
    {
      "cell_type": "code",
      "source": [
        "X=data['X']\n",
        "y_median=data['Y_Median']\n",
        "y_upper=data['Y_Upper_Quantile']\n",
        "y_lower=data['Y_Lower_Quantile']\n",
        "\n",
        "import statsmodels.api as sm\n",
        "X_const=sm.add_constant(X)\n",
        "\n",
        "model_median=fit_quantile_regression(X, y_median, 0.5)\n",
        "model_upper=fit_quantile_regression(X, y_upper, 0.75)\n",
        "model_lower=fit_quantile_regression(X, y_lower, 0.25)\n",
        "\n",
        "X_new=np.linspace(X.min(), X.max(), 100)\n",
        "X_new_const=sm.add_constant(X_new)\n",
        "\n",
        "pred_median=model_median.predict(X_new_const)\n",
        "pred_upper=model_upper.predict(X_new_const)\n",
        "pred_lower=model_lower.predict(X_new_const)\n",
        "\n",
        "plt.figure(figsize=(12, 8))\n",
        "\n",
        "plt.scatter(X, y_median, color='blue', label='Median', alpha=0.6)\n",
        "plt.scatter(X, y_upper, color='red', label='Upper Quantile', alpha=0.6)\n",
        "plt.scatter(X, y_lower, color='green', label='Lower Quantile', alpha=0.6)\n",
        "\n",
        "plt.plot(X_new, pred_median, 'b-', label='Median regression')\n",
        "plt.plot(X_new, pred_upper, 'r-', label='Upper Quantile Regression')\n",
        "plt.plot(X_new, pred_lower, 'g-', label='Lower Quantile Regression')\n",
        "\n",
        "plt.xlabel('X')\n",
        "plt.ylabel('Y')\n",
        "plt.title('Quantile Regression Analysis')\n",
        "plt.legend()\n",
        "plt.grid(True, alpha=0.3)\n",
        "\n",
        "print(\"Median Regression (q=0.5):\")\n",
        "print(f\"Intercept: {model_median.params[0]:.4f}\")\n",
        "print(f\"Slope: {model_median.params[1]:.4f}\")\n",
        "print(f\"Pseudo R-Squared:{model_median.prsquared:.4f}\\n\")\n",
        "\n",
        "print(\"Upper Quantile Regression (q=0.75):\")\n",
        "print(f\"Intercept: {model_upper.params[0]:.4f}\")\n",
        "print(f\"Slope:{model_upper.params[1]:.4f}\")\n",
        "print(f\"Pseudo R-Squared: {model_upper.prsquared:.4f}\\n\")\n",
        "\n",
        "print(\"Lower Quantile Regression(q=0.25):\")\n",
        "print(f\"Intercept: {model_lower.params[0]:.4f}\")\n",
        "print(f\"Slope: {model_lower.params[1]:.4f}\")\n",
        "print(f\"Pseudo R-Squared: {model_lower.prsquared:.4f}\")\n"
      ],
      "metadata": {
        "id": "WnXs8vTGnViA"
      },
      "execution_count": null,
      "outputs": []
    }
  ]
}