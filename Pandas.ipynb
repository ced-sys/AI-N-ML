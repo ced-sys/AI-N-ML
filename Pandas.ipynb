{
  "nbformat": 4,
  "nbformat_minor": 0,
  "metadata": {
    "colab": {
      "provenance": [],
      "authorship_tag": "ABX9TyOPiYqm9h74JpnV9XHy6Go3",
      "include_colab_link": true
    },
    "kernelspec": {
      "name": "python3",
      "display_name": "Python 3"
    },
    "language_info": {
      "name": "python"
    }
  },
  "cells": [
    {
      "cell_type": "markdown",
      "metadata": {
        "id": "view-in-github",
        "colab_type": "text"
      },
      "source": [
        "<a href=\"https://colab.research.google.com/github/cedamusk/AI-N-ML/blob/Tools/Pandas.ipynb\" target=\"_parent\"><img src=\"https://colab.research.google.com/assets/colab-badge.svg\" alt=\"Open In Colab\"/></a>"
      ]
    },
    {
      "cell_type": "markdown",
      "source": [
        "# Pandas\n",
        "Pandas is a powerful and flexible open-source data analysis and manipulation library for Python. It is widely used in data science, machine learning, and general data wrngling tasks. With Pandas, one can efficiently handle structured data, such as tabular data in spredsheets or databases, and perform a wide range of operation on it."
      ],
      "metadata": {
        "id": "iqu-NtXVOOS6"
      }
    },
    {
      "cell_type": "markdown",
      "source": [
        "## Getting started with Pandas\n",
        "To use Pandas, first you need to install it. Tou can install Pandas using pip"
      ],
      "metadata": {
        "id": "Oy7vfCIUROvS"
      }
    },
    {
      "cell_type": "code",
      "execution_count": null,
      "metadata": {
        "colab": {
          "base_uri": "https://localhost:8080/"
        },
        "id": "X_V8ZubYOKRp",
        "outputId": "18e33b44-44c8-4a25-ab78-c283c23a4cb0"
      },
      "outputs": [
        {
          "output_type": "stream",
          "name": "stdout",
          "text": [
            "Requirement already satisfied: pandas in /usr/local/lib/python3.11/dist-packages (2.2.2)\n",
            "Requirement already satisfied: numpy>=1.23.2 in /usr/local/lib/python3.11/dist-packages (from pandas) (1.26.4)\n",
            "Requirement already satisfied: python-dateutil>=2.8.2 in /usr/local/lib/python3.11/dist-packages (from pandas) (2.8.2)\n",
            "Requirement already satisfied: pytz>=2020.1 in /usr/local/lib/python3.11/dist-packages (from pandas) (2024.2)\n",
            "Requirement already satisfied: tzdata>=2022.7 in /usr/local/lib/python3.11/dist-packages (from pandas) (2025.1)\n",
            "Requirement already satisfied: six>=1.5 in /usr/local/lib/python3.11/dist-packages (from python-dateutil>=2.8.2->pandas) (1.17.0)\n"
          ]
        }
      ],
      "source": [
        "!pip install pandas"
      ]
    },
    {
      "cell_type": "markdown",
      "source": [
        "After installation, you can import Pandas in your Python script"
      ],
      "metadata": {
        "id": "jR_flp9SRiA8"
      }
    },
    {
      "cell_type": "code",
      "source": [
        "import pandas as pd"
      ],
      "metadata": {
        "id": "9XC9S30QRf9i"
      },
      "execution_count": null,
      "outputs": []
    },
    {
      "cell_type": "markdown",
      "source": [
        "The convention is to alias Pandas as pd for convenience."
      ],
      "metadata": {
        "id": "Fn-h7T7aRrJ1"
      }
    },
    {
      "cell_type": "markdown",
      "source": [
        "##The core data structures in Pandas\n",
        "Pandas has two primary data structures: `Series` and `DataFrame`.\n",
        "\n",
        "**Series**\n",
        "\n",
        "A Pandas `Series` is a one-dimensional labelled array that can hold any data type (integers, floats, strings, e.t.c,.). Think of it as a column in a table."
      ],
      "metadata": {
        "id": "POaPQn4zSBF9"
      }
    },
    {
      "cell_type": "code",
      "source": [
        "import pandas as pd\n",
        "\n",
        "#From a list\n",
        "data=[10, 20, 30, 40]\n",
        "series=pd.Series(data)\n",
        "print(series)\n",
        "\n",
        "#Adding custom labels to the index\n",
        "series=pd.Series(data, index=['a', 'b', 'c', 'd'])\n",
        "print(series)"
      ],
      "metadata": {
        "colab": {
          "base_uri": "https://localhost:8080/"
        },
        "id": "d4whgb9ARpia",
        "outputId": "3bfac3ce-8f61-4713-e3d3-3c6205d07d80"
      },
      "execution_count": null,
      "outputs": [
        {
          "output_type": "stream",
          "name": "stdout",
          "text": [
            "0    10\n",
            "1    20\n",
            "2    30\n",
            "3    40\n",
            "dtype: int64\n",
            "a    10\n",
            "b    20\n",
            "c    30\n",
            "d    40\n",
            "dtype: int64\n"
          ]
        }
      ]
    },
    {
      "cell_type": "markdown",
      "source": [
        "## DataFrame\n",
        "A Pandas `DataFrame` is a two-dimensional labelled data structure. It is similar to table in a relational database or a spreadsheet in Excel.\n",
        "\n",
        "Creating a DataFrame:"
      ],
      "metadata": {
        "id": "gI8WUTlYVZ36"
      }
    },
    {
      "cell_type": "code",
      "source": [
        "#From a dictionary\n",
        "data={\n",
        "    'Name':['Alice', 'Bob', 'Charlie'],\n",
        "    'Age':[25, 30, 35],\n",
        "    'City':['New York', 'San Francisco', 'Los Angeles']\n",
        "}\n",
        "\n",
        "df=pd.DataFrame(data)\n",
        "print(df)"
      ],
      "metadata": {
        "colab": {
          "base_uri": "https://localhost:8080/"
        },
        "id": "iGH2KO6UVT95",
        "outputId": "f031f4fc-f50a-4591-ceeb-dbf960077cd1"
      },
      "execution_count": null,
      "outputs": [
        {
          "output_type": "stream",
          "name": "stdout",
          "text": [
            "      Name  Age           City\n",
            "0    Alice   25       New York\n",
            "1      Bob   30  San Francisco\n",
            "2  Charlie   35    Los Angeles\n"
          ]
        }
      ]
    },
    {
      "cell_type": "markdown",
      "source": [
        "## Essential Operations with Pandas\n",
        "Pandas provides a rich set of functions for working with data. Here are some common operations:\n",
        "\n",
        "**Viewing Data**"
      ],
      "metadata": {
        "id": "SGJ9ljl4alMP"
      }
    },
    {
      "cell_type": "code",
      "source": [
        "#Display the first few rows(default is 5 rows)\n",
        "print(df.head())\n",
        "\n",
        "#Display the last few rows\n",
        "print(df.tail())\n",
        "\n",
        "#Display basic information about the DataFrame\n",
        "print(df.info())\n",
        "\n",
        "#Display summary statistics for numerical columns\n",
        "print(df.describe())"
      ],
      "metadata": {
        "colab": {
          "base_uri": "https://localhost:8080/"
        },
        "id": "gQppHtdzakOj",
        "outputId": "fadf9819-724c-47a7-b662-4d4862a2a739"
      },
      "execution_count": null,
      "outputs": [
        {
          "output_type": "stream",
          "name": "stdout",
          "text": [
            "      Name  Age           City\n",
            "0    Alice   25       New York\n",
            "1      Bob   30  San Francisco\n",
            "2  Charlie   35    Los Angeles\n",
            "      Name  Age           City\n",
            "0    Alice   25       New York\n",
            "1      Bob   30  San Francisco\n",
            "2  Charlie   35    Los Angeles\n",
            "<class 'pandas.core.frame.DataFrame'>\n",
            "RangeIndex: 3 entries, 0 to 2\n",
            "Data columns (total 3 columns):\n",
            " #   Column  Non-Null Count  Dtype \n",
            "---  ------  --------------  ----- \n",
            " 0   Name    3 non-null      object\n",
            " 1   Age     3 non-null      int64 \n",
            " 2   City    3 non-null      object\n",
            "dtypes: int64(1), object(2)\n",
            "memory usage: 204.0+ bytes\n",
            "None\n",
            "        Age\n",
            "count   3.0\n",
            "mean   30.0\n",
            "std     5.0\n",
            "min    25.0\n",
            "25%    27.5\n",
            "50%    30.0\n",
            "75%    32.5\n",
            "max    35.0\n"
          ]
        }
      ]
    },
    {
      "cell_type": "markdown",
      "source": [
        "**Indexing and selecting data**\n"
      ],
      "metadata": {
        "id": "30Ec9yn_kWaf"
      }
    },
    {
      "cell_type": "code",
      "source": [
        "#selecting a single column\n",
        "print(df['Name'])\n",
        "\n",
        "#selecting multiple columns\n",
        "print(df[['Name', 'Age']])\n",
        "\n",
        "#Selecting rows by index\n",
        "print(df.loc[0]) #By label\n",
        "print(df.iloc[0]) #By position\n",
        "\n",
        "#Slicing rows\n",
        "print(df[1:3])"
      ],
      "metadata": {
        "colab": {
          "base_uri": "https://localhost:8080/"
        },
        "id": "t0L_NZQ_kT0w",
        "outputId": "7584f16d-5a90-4948-e706-0538a235ca32"
      },
      "execution_count": null,
      "outputs": [
        {
          "output_type": "stream",
          "name": "stdout",
          "text": [
            "0      Alice\n",
            "1        Bob\n",
            "2    Charlie\n",
            "Name: Name, dtype: object\n",
            "      Name  Age\n",
            "0    Alice   25\n",
            "1      Bob   30\n",
            "2  Charlie   35\n",
            "Name       Alice\n",
            "Age           25\n",
            "City    New York\n",
            "Name: 0, dtype: object\n",
            "Name       Alice\n",
            "Age           25\n",
            "City    New York\n",
            "Name: 0, dtype: object\n",
            "      Name  Age           City\n",
            "1      Bob   30  San Francisco\n",
            "2  Charlie   35    Los Angeles\n"
          ]
        }
      ]
    },
    {
      "cell_type": "markdown",
      "source": [
        "## Filtering Data"
      ],
      "metadata": {
        "id": "hWhIG1L8lp2E"
      }
    },
    {
      "cell_type": "code",
      "source": [
        "#Filter rows based on a condition\n",
        "filtered=df[df['Age']>30]\n",
        "print(filtered)"
      ],
      "metadata": {
        "colab": {
          "base_uri": "https://localhost:8080/"
        },
        "id": "6SqF0gXaln9K",
        "outputId": "a0585e52-f982-4211-a4fe-85cc976758ee"
      },
      "execution_count": null,
      "outputs": [
        {
          "output_type": "stream",
          "name": "stdout",
          "text": [
            "      Name  Age         City\n",
            "2  Charlie   35  Los Angeles\n"
          ]
        }
      ]
    },
    {
      "cell_type": "markdown",
      "source": [
        "## Modifying Data\n"
      ],
      "metadata": {
        "id": "1Si1kLZ-l_Wt"
      }
    },
    {
      "cell_type": "code",
      "source": [
        "#Adding a new column\n",
        "df['Salary']=[50000, 60000, 70000]\n",
        "\n",
        "#Updating values in a column\n",
        "df['Age']=df['Age']+1\n",
        "\n",
        "#Removing a column\n",
        "df=df.drop('City', axis=1)\n",
        "print(df)"
      ],
      "metadata": {
        "colab": {
          "base_uri": "https://localhost:8080/"
        },
        "id": "wkCU-YRbl3p-",
        "outputId": "2db2dbab-4836-4964-a2e5-2f788d81aba7"
      },
      "execution_count": null,
      "outputs": [
        {
          "output_type": "stream",
          "name": "stdout",
          "text": [
            "      Name  Age  Salary\n",
            "0    Alice   26   50000\n",
            "1      Bob   31   60000\n",
            "2  Charlie   36   70000\n"
          ]
        }
      ]
    },
    {
      "cell_type": "markdown",
      "source": [
        "## Handling Missing Data\n",
        "\n",
        "Real-world data often contains missing values. Pandas provides methods to handle these:"
      ],
      "metadata": {
        "id": "tuQNWLU7mXwt"
      }
    },
    {
      "cell_type": "code",
      "source": [
        "#Checking for missing values\n",
        "print(df.isnull())\n",
        "\n",
        "#Filling missing values\n",
        "df['Age']=df['Age'].fillna(0)\n",
        "\n",
        "#Dropping rows or columns with missing values\n",
        "df=df.dropna()"
      ],
      "metadata": {
        "colab": {
          "base_uri": "https://localhost:8080/"
        },
        "id": "Aw_RcuBbmWch",
        "outputId": "dbe8dbb1-7b93-4dfc-a9f2-6673720d838c"
      },
      "execution_count": null,
      "outputs": [
        {
          "output_type": "stream",
          "name": "stdout",
          "text": [
            "    Name    Age  Salary\n",
            "0  False  False   False\n",
            "1  False  False   False\n",
            "2  False  False   False\n"
          ]
        }
      ]
    },
    {
      "cell_type": "markdown",
      "source": [
        "## Working with dates and times\n",
        "Pandas makes it easy to handle datetime data."
      ],
      "metadata": {
        "id": "p6dxdyB8sPw7"
      }
    },
    {
      "cell_type": "code",
      "source": [
        "#converting a column to datetime\n",
        "df['Date']=pd.to_datetime(['2025-01-01', '2023-02-01','2025-03-01'])\n",
        "\n",
        "#Extracting year, month, and day\n",
        "df['Year']=df['Date'].dt.year\n",
        "df['Month']=df['Date'].dt.month\n",
        "print(df)"
      ],
      "metadata": {
        "colab": {
          "base_uri": "https://localhost:8080/"
        },
        "id": "Y2iipRr3mzcY",
        "outputId": "bdf473d6-735b-40cc-ac5c-b9e0e9e30614"
      },
      "execution_count": null,
      "outputs": [
        {
          "output_type": "stream",
          "name": "stdout",
          "text": [
            "      Name  Age  Salary       Date  Year  Month\n",
            "0    Alice   26   50000 2025-01-01  2025      1\n",
            "1      Bob   31   60000 2023-02-01  2023      2\n",
            "2  Charlie   36   70000 2025-03-01  2025      3\n"
          ]
        }
      ]
    },
    {
      "cell_type": "markdown",
      "source": [
        "## Grouping and aggregation\n",
        "Pandas enables grouping and aggregating data for analysis"
      ],
      "metadata": {
        "id": "Fj030o-as0yP"
      }
    },
    {
      "cell_type": "code",
      "source": [
        "#Grouping data by a column\n",
        "grouped=df.groupby('Name')['Salary'].mean()\n",
        "print(grouped)\n",
        "\n",
        "#Aggregating with multiple functions\n",
        "aggregated=df.groupby('Name').agg({'Salary': ['mean', 'max']})\n",
        "print(aggregated)"
      ],
      "metadata": {
        "colab": {
          "base_uri": "https://localhost:8080/"
        },
        "id": "38eFVQCqsyWe",
        "outputId": "e93f1935-9539-4269-fd1b-75227254dc96"
      },
      "execution_count": null,
      "outputs": [
        {
          "output_type": "stream",
          "name": "stdout",
          "text": [
            "Name\n",
            "Alice      50000.0\n",
            "Bob        60000.0\n",
            "Charlie    70000.0\n",
            "Name: Salary, dtype: float64\n",
            "          Salary       \n",
            "            mean    max\n",
            "Name                   \n",
            "Alice    50000.0  50000\n",
            "Bob      60000.0  60000\n",
            "Charlie  70000.0  70000\n"
          ]
        }
      ]
    },
    {
      "cell_type": "markdown",
      "source": [
        "##Working with large datasets\n",
        "Pandas can handle large datasets, but there are some best practices:\n",
        "\n",
        "\n",
        "*   Use chunking when reading large files\n",
        "\n"
      ],
      "metadata": {
        "id": "sUh43odgtnp6"
      }
    },
    {
      "cell_type": "code",
      "source": [
        "for chunk in pd.read_csv('large_file.csv', chunksize=10000):\n",
        "  process(chunk)"
      ],
      "metadata": {
        "id": "yL2YHCnltVk1"
      },
      "execution_count": null,
      "outputs": []
    },
    {
      "cell_type": "markdown",
      "source": [
        "\n",
        "\n",
        "*   Optimize memory usage by specifying data types for columns\n",
        "\n"
      ],
      "metadata": {
        "id": "vYhareBFuOYC"
      }
    },
    {
      "cell_type": "code",
      "source": [
        "df=pd.read_csv('file.csv', dtype{'column_name': 'category'})"
      ],
      "metadata": {
        "id": "6cRMitm1uOCH"
      },
      "execution_count": null,
      "outputs": []
    },
    {
      "cell_type": "markdown",
      "source": [
        "## Visualization with Pandas\n",
        "Pandas integrates with matplotlib for basic plotting"
      ],
      "metadata": {
        "id": "dvxMsmf9ugLV"
      }
    },
    {
      "cell_type": "code",
      "source": [
        "import matplotlib.pyplot as plt\n",
        "\n",
        "#line plot\n",
        "df['Age'].plot(kind='line')\n",
        "plt.show()\n",
        "\n",
        "#Bar plot\n",
        "df['Name'].value_counts().plot(kind='bar')\n",
        "plt.show()"
      ],
      "metadata": {
        "colab": {
          "base_uri": "https://localhost:8080/",
          "height": 898
        },
        "id": "gRTTtwzuurm-",
        "outputId": "ff281ef7-7c20-44c1-cf25-9e3a1e611359"
      },
      "execution_count": null,
      "outputs": [
        {
          "output_type": "display_data",
          "data": {
            "text/plain": [
              "<Figure size 640x480 with 1 Axes>"
            ],
            "image/png": "[encoded data removed]"
          },
          "metadata": {}
        },
        {
          "output_type": "display_data",
          "data": {
            "text/plain": [
              "<Figure size 640x480 with 1 Axes>"
            ],
            "image/png": "[encoded data removed]"
          },
          "metadata": {}
        }
      ]
    },
    {
      "cell_type": "markdown",
      "source": [
        "## Exporting data\n",
        "Pandas allows exporting data to various formats"
      ],
      "metadata": {
        "id": "WenuUaZAvDa4"
      }
    },
    {
      "cell_type": "code",
      "source": [
        "#Exporting to a csv file\n",
        "df.to_csv('output.csv', index=False)\n",
        "\n",
        "#exporting to an Excel file\n",
        "df.to_excel('output.xlsx', index=False)"
      ],
      "metadata": {
        "id": "x4wG2Y1Xu-Kq"
      },
      "execution_count": null,
      "outputs": []
    },
    {
      "cell_type": "markdown",
      "source": [
        "## Practical Example\n",
        "Here's a complete code that demonstrates several Pandas functionalities:"
      ],
      "metadata": {
        "id": "2DEG5b5YUd7B"
      }
    },
    {
      "cell_type": "code",
      "source": [
        "import pandas as pd\n",
        "import numpy as np\n",
        "\n",
        "#Create a sample dataset\n",
        "data={\n",
        "    'Date': pd.date_range(start='2024-01-01', periods=10),\n",
        "    'Sales':np.random.randint(100, 500, 10),\n",
        "    'Product': np.random.choice(['Electronics', 'Clothing', 'Books'], 10),\n",
        "    'Region':np.random.choice(['North', 'South', 'East', 'West'], 10),\n",
        "}\n",
        "df=pd.DataFrame(data)\n",
        "\n",
        "#Adding a new column\n",
        "df['Revenue']=df['Sales']*1.2\n",
        "\n",
        "#Filtering data\n",
        "filtered=df[df['Sales']>300]\n",
        "\n",
        "#Grouping and aggregating\n",
        "grouped=df.groupby('Region')['Sales'].sum()\n",
        "\n",
        "#Diplay results\n",
        "print(\"Orginal DataFrame:\")\n",
        "print(df)\n",
        "print(\"\\nFiltered Data:\")\n",
        "print(filtered)\n",
        "print(\"\\nSales by region:\")\n",
        "print(grouped)"
      ],
      "metadata": {
        "colab": {
          "base_uri": "https://localhost:8080/"
        },
        "id": "imUg6tiGUw8E",
        "outputId": "14901902-9738-4f31-e1bf-05894fb1fa1a"
      },
      "execution_count": 1,
      "outputs": [
        {
          "output_type": "stream",
          "name": "stdout",
          "text": [
            "Orginal DataFrame:\n",
            "        Date  Sales      Product Region  Revenue\n",
            "0 2024-01-01    136        Books   East    163.2\n",
            "1 2024-01-02    339  Electronics   East    406.8\n",
            "2 2024-01-03    167  Electronics   East    200.4\n",
            "3 2024-01-04    471  Electronics   West    565.2\n",
            "4 2024-01-05    488  Electronics  South    585.6\n",
            "5 2024-01-06    302        Books  South    362.4\n",
            "6 2024-01-07    433        Books   West    519.6\n",
            "7 2024-01-08    450     Clothing   West    540.0\n",
            "8 2024-01-09    181     Clothing   West    217.2\n",
            "9 2024-01-10    482        Books  North    578.4\n",
            "\n",
            "Filtered Data:\n",
            "        Date  Sales      Product Region  Revenue\n",
            "1 2024-01-02    339  Electronics   East    406.8\n",
            "3 2024-01-04    471  Electronics   West    565.2\n",
            "4 2024-01-05    488  Electronics  South    585.6\n",
            "5 2024-01-06    302        Books  South    362.4\n",
            "6 2024-01-07    433        Books   West    519.6\n",
            "7 2024-01-08    450     Clothing   West    540.0\n",
            "9 2024-01-10    482        Books  North    578.4\n",
            "\n",
            "Sales by region:\n",
            "Region\n",
            "East      642\n",
            "North     482\n",
            "South     790\n",
            "West     1535\n",
            "Name: Sales, dtype: int64\n"
          ]
        }
      ]
    }
  ]
}