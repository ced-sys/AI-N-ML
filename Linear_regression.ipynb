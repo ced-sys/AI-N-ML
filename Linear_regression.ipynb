{
  "nbformat": 4,
  "nbformat_minor": 0,
  "metadata": {
    "colab": {
      "private_outputs": true,
      "provenance": [],
      "authorship_tag": "ABX9TyPMxpYbvMe9HyNT4HwPbmUh",
      "include_colab_link": true
    },
    "kernelspec": {
      "name": "python3",
      "display_name": "Python 3"
    },
    "language_info": {
      "name": "python"
    }
  },
  "cells": [
    {
      "cell_type": "markdown",
      "metadata": {
        "id": "view-in-github",
        "colab_type": "text"
      },
      "source": [
        "<a href=\"https://colab.research.google.com/github/cedamusk/AI-N-ML/blob/main/Linear_regression.ipynb\" target=\"_parent\"><img src=\"https://colab.research.google.com/assets/colab-badge.svg\" alt=\"Open In Colab\"/></a>"
      ]
    },
    {
      "cell_type": "code",
      "execution_count": null,
      "metadata": {
        "id": "gcJWXgzNy_dX"
      },
      "outputs": [],
      "source": [
        "import pandas as pd\n",
        "import numpy as np\n",
        "from sklearn.linear_model import LinearRegression\n",
        "from sklearn.metrics import mean_absolute_error, mean_squared_error\n",
        "import matplotlib.pyplot as plt\n",
        "from scipy import stats"
      ]
    },
    {
      "cell_type": "code",
      "source": [
        "data=pd.read_csv('/content/synthetic_renewable_energy_analysis.csv')"
      ],
      "metadata": {
        "id": "GXJznmOV0QBL"
      },
      "execution_count": null,
      "outputs": []
    },
    {
      "cell_type": "code",
      "source": [
        "print(\"First few rows:\")\n",
        "print(data.head())\n",
        "print(\"\\nColumn names:\")\n",
        "print(data.columns)"
      ],
      "metadata": {
        "id": "EzCc7sVB0P9s"
      },
      "execution_count": null,
      "outputs": []
    },
    {
      "cell_type": "code",
      "source": [
        "def analyze_renewable_gdp_correlation(data):\n",
        "  results={}\n",
        "\n",
        "  for country in data ['Country'].unique():\n",
        "    country_data=data[data['Country']==country]\n",
        "\n",
        "    X=country_data['Renewable_Energy_Share (%)'].values.reshape(-1,1)\n",
        "    y=country_data['GDP_Growth_Rate (%)'].values\n",
        "\n",
        "    model=LinearRegression()\n",
        "    model.fit(X, y)\n",
        "\n",
        "    y_pred=model.predict(X)\n",
        "\n",
        "    mae=mean_absolute_error(y, y_pred)\n",
        "    mse=mean_squared_error(y, y_pred)\n",
        "    mse=np.sqrt(mse)\n",
        "    rmse=np.sqrt(mse)\n",
        "    r_squared=model.score(X, y)\n",
        "    adjusted_r_squared=1-(1-r_squared)*(len(y)-1)/(len(y)-X.shape[1]-1)\n",
        "\n",
        "    correlation_coef, p_value=stats.pearsonr(\n",
        "        country_data['Renewable_Energy_Share (%)'],\n",
        "        country_data['GDP_Growth_Rate (%)']\n",
        "    )\n",
        "\n",
        "    results[country]={\n",
        "        'slope':model.coef_[0],\n",
        "        'intercept': model.intercept_,\n",
        "        'mae':mae,\n",
        "        'mse':mse,\n",
        "        'rmse':rmse,\n",
        "        'r_squared': r_squared,\n",
        "        'adjusted_r_squared': adjusted_r_squared,\n",
        "        'correlation_coef': correlation_coef,\n",
        "        'p_value': p_value,\n",
        "        'data':{\n",
        "            'X':X,\n",
        "            'y':y,\n",
        "            'y_pred': y_pred\n",
        "        }\n",
        "\n",
        "    }\n",
        "\n",
        "  return results"
      ],
      "metadata": {
        "id": "7XkFpwrg0pKx"
      },
      "execution_count": null,
      "outputs": []
    },
    {
      "cell_type": "code",
      "source": [
        "def plot_comparison(data, results):\n",
        "  plt.figure(figsize=(12, 6))\n",
        "\n",
        "  countries=list(results.keys())\n",
        "  colors=['blue', 'green']\n",
        "\n",
        "  for i, (country, color) in enumerate (zip(countries, colors)):\n",
        "    country_results=results[country]\n",
        "\n",
        "    plt.scatter(\n",
        "        country_results['data']['X'],\n",
        "        country_results['data']['y_pred'],\n",
        "        color=color,\n",
        "        linestyle='--',\n",
        "        label=f'{country}(Predicted)'\n",
        "    )\n",
        "\n",
        "  plt.xlabel('Renewable Energy Share (%)')\n",
        "  plt.ylabel('GDP Growth Rate (%)')\n",
        "  plt.title('Relationship between Renewable Energy Share and GDP Growth ')\n",
        "  plt.legend()\n",
        "  plt.grid(True, alpha=0.3)\n",
        "\n",
        "  return plt"
      ],
      "metadata": {
        "id": "-xCoPf4k7X4z"
      },
      "execution_count": null,
      "outputs": []
    },
    {
      "cell_type": "code",
      "source": [
        "def print_detailed_metrics(results):\n",
        "  for country, result in results.items():\n",
        "    print(f\"\\nDetailed metrics for {country}:\")\n",
        "    print(\"-\"* 40)\n",
        "    print(f\"Model Parameters:\")\n",
        "    print(f\"Slope: {result['slope']:.4f}\")\n",
        "    print(f\" Intercept: {result['intercept']:.4f}\")\n",
        "    print(\"\\nError Metrics:\")\n",
        "    print(f\"Mean Absolute Error (MAE): {result['mae']:.4f}\")\n",
        "    print(f\"Mean Squared Error (MSE): {result['mse']:.4f}\")\n",
        "    print(f\" Root Mean Squared Error (RMSE): {result['rmse']:.4f}\")\n",
        "    print(\"\\nGoodness of fit:\")\n",
        "    print(f\"R-Squared:{result['r_squared']:.4f}\")\n",
        "    print(f\"Adjusted R-Squared: {result['adjusted_r_squared']:.4f}\")\n",
        "    print(\"\\nCorrelation Analysis:\")\n",
        "    print(f\"Correlation coefficient: {result['correlation_coef']:.4f}\")\n",
        "    print(f\"P_value: {result['p_value']:.4f}\")"
      ],
      "metadata": {
        "id": "Izz_YJ0C92c3"
      },
      "execution_count": null,
      "outputs": []
    },
    {
      "cell_type": "code",
      "source": [
        "data=pd.read_csv('/content/synthetic_renewable_energy_analysis.csv')\n",
        "results=analyze_renewable_gdp_correlation(data)\n",
        "print_detailed_metrics(results)\n",
        "\n",
        "plot=plot_comparison(data, results)\n",
        "plt.show()\n"
      ],
      "metadata": {
        "id": "8uoYFLRj_WYR"
      },
      "execution_count": null,
      "outputs": []
    },
    {
      "cell_type": "code",
      "source": [],
      "metadata": {
        "id": "8K44N--XAja9"
      },
      "execution_count": null,
      "outputs": []
    }
  ]
}