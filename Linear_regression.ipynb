{
  "nbformat": 4,
  "nbformat_minor": 0,
  "metadata": {
    "colab": {
      "private_outputs": true,
      "provenance": [],
      "authorship_tag": "ABX9TyP2glFIbN1eiZkRPvDT1Slw",
      "include_colab_link": true
    },
    "kernelspec": {
      "name": "python3",
      "display_name": "Python 3"
    },
    "language_info": {
      "name": "python"
    }
  },
  "cells": [
    {
      "cell_type": "markdown",
      "metadata": {
        "id": "view-in-github",
        "colab_type": "text"
      },
      "source": [
        "<a href=\"https://colab.research.google.com/github/cedamusk/AI-N-ML/blob/main/Linear_regression.ipynb\" target=\"_parent\"><img src=\"https://colab.research.google.com/assets/colab-badge.svg\" alt=\"Open In Colab\"/></a>"
      ]
    },
    {
      "cell_type": "markdown",
      "source": [
        "# Linear Regression\n",
        "\n",
        "**Link to used dataset**https://drive.google.com/file/d/1juE760yG7wkcDXIQ38AKVhOGPlH2oeej/view?usp=sharing\n",
        "## Import Libraries and Modules\n",
        "1.  `import pandas as pd`: Imports the `pandas` library and assigns it the alias `pd`. `pandas` is used for data manipulation and analysis. Commonly, it works with data structures like DataFrames and Series.\n",
        "\n",
        "2.  `import numpy as np`: Imports the `numpy` library and assigns it the alias `np`. `numpy` library is used for numerical computation in Python, particularly for working arrays and performing mathematical operations.\n",
        "\n",
        "3.  `from sklearn.linear_model import LinearRegression`. Imports the `LinearRegression` class from `sklearn.linear_model`. This class provides a linear regression model that fits a straight line to the data. It's part of the `scikit-learn` library.\n",
        "\n",
        "4.  `from sklearn.metrics import mean_absolute_error, mean_squared_error`. Imports `mean_absolute_error` and `mean_squared_error` from the `sklearn.metrics` module. `mean_absolute_error` calculates the average of absolute errors between predicted and actual values. `mean_squared_error` calculates the average of squared errors, often used to penalize larger errors more heavily.\n",
        "\n",
        "5.  `import matplotlib.pyplot as plt`. Imports the `pyplot` module from the `matplotlib` library and assigns it the alias `plt`. Used for creating visualizations such as line plots, scatter plots and histograms.\n",
        "\n",
        "6. `from scipy import stats`. Imports the `stats` module from `scipy` library. Provides statistical functions and methods, such as computing correlation coefficients or performin hypothesis testing.\n",
        "\n",
        "\n",
        "\n"
      ],
      "metadata": {
        "id": "2rWE386Z6Ov1"
      }
    },
    {
      "cell_type": "code",
      "execution_count": null,
      "metadata": {
        "id": "gcJWXgzNy_dX"
      },
      "outputs": [],
      "source": [
        "import pandas as pd\n",
        "import numpy as np\n",
        "from sklearn.linear_model import LinearRegression\n",
        "from sklearn.metrics import mean_absolute_error, mean_squared_error\n",
        "import matplotlib.pyplot as plt\n",
        "from scipy import stats"
      ]
    },
    {
      "cell_type": "code",
      "source": [
        "data=pd.read_csv('/content/synthetic_renewable_energy_analysis.csv')"
      ],
      "metadata": {
        "id": "GXJznmOV0QBL"
      },
      "execution_count": null,
      "outputs": []
    },
    {
      "cell_type": "code",
      "source": [
        "print(\"First few rows:\")\n",
        "print(data.head())\n",
        "print(\"\\nColumn names:\")\n",
        "print(data.columns)"
      ],
      "metadata": {
        "id": "EzCc7sVB0P9s"
      },
      "execution_count": null,
      "outputs": []
    },
    {
      "cell_type": "markdown",
      "source": [
        "## Analyze Renewable energy and GDP correlation\n",
        "This function analyzes the relationship between renewable energy and GDP growth rate for each country in the dataset. It performs linear regression ad computes several statistical metrics.\n",
        "\n",
        "## Code Breakdown\n",
        "1.  `results={}`: Initializes an empty dictionary to store the analysis results for each country.\n",
        "\n",
        "2. `for country in data['Country'].unique():`: Loops through each unique country in the `Country` column of the dataset. It analyzes data for each country separately.\n",
        "\n",
        "3. `country_data=data[data['Country']==country]`: Filters the dataset to include only rows corresponding to the current `country`.\n",
        "\n",
        "4. `X=country_data['Renewable_Energy_Share (%)'].values.reshape(-1,1)`: Extracts the independent variable (renewable energy share) as a NumPy array. The `.reshape(-1, 1)` ensures that `X` has the correct 2D shape required for the regression model.\n",
        "\n",
        "5. `y=country_data['GDP_Growth_Rate (%)'].values`: Extracts the dependent variable (GDP Growth) as a NumPy array.\n",
        "\n",
        "6. `model=LinearRegression`: Initializes a linear regression model from `sklearn`.\n",
        "\n",
        "7. `model.fit(X, y)`: Trains the linear regression model usin`X` (independent variable) and `y` (dependent variable).\n",
        "\n",
        "8. `y_pred=model.predict(X)`: Predicts the Gdp growth rate (`y_pred`) based on the renewable energy share (`X`) using the trained model.\n",
        "\n",
        "##Perfomance Metrics\n",
        "9. `mae=mean_absolute_error(y, y_pred)`: Calculates the Mean Absolute Error (MAE), which measures the average absolute difference between predicted and actual values.\n",
        "\n",
        "10. `mse=mean_squared_error(y, y_pred)`: Caculates the Mean Squared Error (MSE), which measures the average squared differences between predicted and actual values.\n",
        "\n",
        "11. `rmse=np.sqrt(mse)`: Calculates the Root Mean Squared Error (RMSE), which is the square root of MSE and has the same units as the dependent variable.\n",
        "\n",
        "12. `r_squared=model.score(X, y)`: Computes the R-Squared value, which indicates how well the model explains the variance in the data.\n",
        "\n",
        "13. `adjusted_r_squared=1-(1-r_squared)*(len(y)-1) / (len(y)-X.shape[1]-1)`: Adjusts the R-squared value to account for the number of predictors (features). It prevents overestimation in models with multiple variables.\n",
        "\n",
        "##Correlation Analysis\n",
        "14. `correlation_coef, p_value=stats.pearsonr(...)`: Computes the Pearson correlation coefficient and p-value for the relationship between renewable energy share and GDP growth rate. `correlation_coef` Measures the strength and direction of the linear relationship.\n",
        "`p_value` indicates statistical significance (whether the relationship is likely due to chance).\n",
        "\n",
        "##Store results\n",
        "15. `results[country] ={...}`: Stores the calculated metrics and model parameters for each country. `slope`: Coefficient of the independent variable. `intercept`: Intercept of the regression line. `mae, mse, rmse, r_squared, adjusted_r_squared`: Performance metrics. `correlation_coef, p_value`: correlation analysis results. `data`: Stores `X`, `y`, and `y_pred` for later use.\n",
        "\n",
        "`return results`: Returns the dictionary `results` containing analysis for all countries.\n",
        "\n"
      ],
      "metadata": {
        "id": "D3QkIs4dBzif"
      }
    },
    {
      "cell_type": "code",
      "source": [
        "def analyze_renewable_gdp_correlation(data):\n",
        "  results={}\n",
        "\n",
        "  for country in data ['Country'].unique():\n",
        "    country_data=data[data['Country']==country]\n",
        "\n",
        "    X=country_data['Renewable_Energy_Share (%)'].values.reshape(-1,1)\n",
        "    y=country_data['GDP_Growth_Rate (%)'].values\n",
        "\n",
        "    model=LinearRegression()\n",
        "    model.fit(X, y)\n",
        "\n",
        "    y_pred=model.predict(X)\n",
        "\n",
        "    mae=mean_absolute_error(y, y_pred)\n",
        "    mse=mean_squared_error(y, y_pred)\n",
        "    mse=np.sqrt(mse)\n",
        "    rmse=np.sqrt(mse)\n",
        "    r_squared=model.score(X, y)\n",
        "    adjusted_r_squared=1-(1-r_squared)*(len(y)-1)/(len(y)-X.shape[1]-1)\n",
        "\n",
        "    correlation_coef, p_value=stats.pearsonr(\n",
        "        country_data['Renewable_Energy_Share (%)'],\n",
        "        country_data['GDP_Growth_Rate (%)']\n",
        "    )\n",
        "\n",
        "    results[country]={\n",
        "        'slope':model.coef_[0],\n",
        "        'intercept': model.intercept_,\n",
        "        'mae':mae,\n",
        "        'mse':mse,\n",
        "        'rmse':rmse,\n",
        "        'r_squared': r_squared,\n",
        "        'adjusted_r_squared': adjusted_r_squared,\n",
        "        'correlation_coef': correlation_coef,\n",
        "        'p_value': p_value,\n",
        "        'data':{\n",
        "            'X':X,\n",
        "            'y':y,\n",
        "            'y_pred': y_pred\n",
        "        }\n",
        "\n",
        "    }\n",
        "\n",
        "  return results"
      ],
      "metadata": {
        "id": "7XkFpwrg0pKx"
      },
      "execution_count": null,
      "outputs": []
    },
    {
      "cell_type": "markdown",
      "source": [
        "## Plot Comparison\n",
        "The function visualizes the relationship between renewable energy share and GDP growth rate for multiple countries (Kenya and Ireland). It plots the predicted GDP growth rates against renewable energy share for comparison.\n",
        "\n",
        "##Code breakdown\n",
        "1. `plt.figure(figsize=(12, 6))`: Creates a new figure for plotting with a size of 12 inches by 6 inches. Ensures the plot has sufficient space and is easy to read.\n",
        "\n",
        "2. `countries=list(results.keys())`: Extracts the list of country names (keys) from the `results` dictionary.\n",
        "\n",
        "3. `colors=['blue', 'green']`: Defines a list of colours for plotting different countries. If there are more than two countries, you'll need to extend this list.\n",
        "\n",
        "4. `for i, (country, color) in enumerate (zip(countries, colors))`: Loops through each country and its corresponding color using `zip`. `i` is the index of the loop (unused here).\n",
        "\n",
        "5. `country_results=results[country]`. Retrieves the results for the current `country` from the `results` dictionary.\n",
        "\n",
        "6. `plt.scatter(...)`: Plots a scatter plot for the predicted data. `country_results['data']['X']`: renewable energy share (`X`) for the country. `country_results['data']['y_pred']`: Predicted GDP growth rates (`y_pred`) for the country. `color=color`: Assigns a unique color to each country. `linestyle='--'`: Dashed line style (not valid for scatter plots, can be removed). `label=f'{country}(Predicted)'`: Adds a legend label with the name and \"Predicted\".\n",
        "\n",
        "7. `plt.xlabel('Renewable Energy Share (%)')`: Sets the label for the x-axis.\n",
        "\n",
        "8. `plt.ylabel('GDP Growth Rate (%)')`: Sets the label for the y-axis.\n",
        "\n",
        "9. `plt.title(...)`: Sets the title of the plot \"Relationship between Renewable Energy Share and GDP Growth\".\n",
        "\n",
        "10. `plt.legend()`: Displays a legend indicating which country corresponds to which color in the plot.\n",
        "\n",
        "11. `plt.grid(True, alpha=0.3)`: adds a light grid to the plot for better readability. `alpha=0.3` makes the gridlines semi-transparent.\n",
        "\n",
        "12. `return plt`: returns the plot object so it can be displayed or saved."
      ],
      "metadata": {
        "id": "HVfYmlxZNjBk"
      }
    },
    {
      "cell_type": "code",
      "source": [
        "def plot_comparison(data, results):\n",
        "  plt.figure(figsize=(12, 6))\n",
        "\n",
        "  countries=list(results.keys())\n",
        "  colors=['blue', 'green']\n",
        "\n",
        "  for i, (country, color) in enumerate (zip(countries, colors)):\n",
        "    country_results=results[country]\n",
        "\n",
        "    plt.scatter(\n",
        "        country_results['data']['X'],\n",
        "        country_results['data']['y_pred'],\n",
        "        color=color,\n",
        "        linestyle='--',\n",
        "        label=f'{country}(Predicted)'\n",
        "    )\n",
        "\n",
        "  plt.xlabel('Renewable Energy Share (%)')\n",
        "  plt.ylabel('GDP Growth Rate (%)')\n",
        "  plt.title('Relationship between Renewable Energy Share and GDP Growth ')\n",
        "  plt.legend()\n",
        "  plt.grid(True, alpha=0.3)\n",
        "\n",
        "  return plt"
      ],
      "metadata": {
        "id": "-xCoPf4k7X4z"
      },
      "execution_count": null,
      "outputs": []
    },
    {
      "cell_type": "markdown",
      "source": [
        "## Print Detailed Metrics\n",
        "The function iterates through the `results` dictionary and prints detailed metrics for each country. It organizes the metrics into categories such as model parameters, error metrics, goodness of fit and correlation analysis for readabilty.\n",
        "##Code Breakdown\n",
        "1. `for country, result in results.items():`: Iterates through the `results` dictionary, where `country` is the key (name of the country). `result` is the corresponding dictionary containing the metrics and model data.\n",
        "\n",
        "2. `print(f\"\\nDetailed metrics for {country}:\")`: Prints the name of the country, prefixed by a newline (`\\n`) for better readability.\n",
        "\n",
        "3. `print(\"-\"*40)`: Prints a horizontal separator line (40 dashes) for better visual organization.\n",
        "\n",
        "4. `print(f\"Model Parameters:\")`: Indicates the start of the model parameter section.\n",
        "\n",
        "5. `print(f\"Slope: {result['slope']:.4f}\")`: prints the slope (coefficient of the independent variable) rounded to 4 decimal places. `result['slope']`: Indicates the rate of change in GDP growth rate with respect to renewable energy share.\n",
        "\n",
        "6. `print(f\"Intercept: {result['intercept']:.4f}\")`: Prints the intercept of the regression line, rounded to  decimal places. `result['intercept']`: The predicted GDP growth rate when the renewable energy share is zero.\n",
        "\n",
        "##Error metrics\n",
        "7. `print(\"\\nError Metrics:\")`: Introduces the error metrics section. `MAE`: Average absolute error in predictions. `MSE`:Average squared  error in predictions. `RMSE`: Square root of the MSE, representing the standard deviation of prediction errors. All values are rounded to 4 decimal places.\n",
        "\n",
        "##Goodness of fit\n",
        "9. `print(\"\\nGoodness of fit:\")`: Introduces the section for R-squared and adjusted R-Squared metrics.\n",
        "\n",
        "10. Prints `R-Squared` and `Adjusted R-Squared`: `R-Squared`: Proportion of variance in GDP growth rate explained by the renewable energy share. `Adjusted R-Squared`: Adjusted for the number of predictors to avoid overestimation.\n",
        "\n",
        "##Correlation analysis\n",
        "11. `print(\"\\nCorrelation Analysis:\")`: introduces the correlation analysis section.\n",
        "12. Prints Correlation Coefficient and P-Value:\n",
        "`Correlation coefficient`: Indicates the strength and direction of the linear relationship. `P-Value`: asses the statistical significance of the relationship."
      ],
      "metadata": {
        "id": "QrZ03_yMUbc6"
      }
    },
    {
      "cell_type": "code",
      "source": [
        "def print_detailed_metrics(results):\n",
        "  for country, result in results.items():\n",
        "    print(f\"\\nDetailed metrics for {country}:\")\n",
        "    print(\"-\"* 40)\n",
        "    print(f\"Model Parameters:\")\n",
        "    print(f\"Slope: {result['slope']:.4f}\")\n",
        "    print(f\" Intercept: {result['intercept']:.4f}\")\n",
        "    print(\"\\nError Metrics:\")\n",
        "    print(f\"Mean Absolute Error (MAE): {result['mae']:.4f}\")\n",
        "    print(f\"Mean Squared Error (MSE): {result['mse']:.4f}\")\n",
        "    print(f\" Root Mean Squared Error (RMSE): {result['rmse']:.4f}\")\n",
        "    print(\"\\nGoodness of fit:\")\n",
        "    print(f\"R-Squared:{result['r_squared']:.4f}\")\n",
        "    print(f\"Adjusted R-Squared: {result['adjusted_r_squared']:.4f}\")\n",
        "    print(\"\\nCorrelation Analysis:\")\n",
        "    print(f\"Correlation coefficient: {result['correlation_coef']:.4f}\")\n",
        "    print(f\"P_value: {result['p_value']:.4f}\")"
      ],
      "metadata": {
        "id": "Izz_YJ0C92c3"
      },
      "execution_count": null,
      "outputs": []
    },
    {
      "cell_type": "code",
      "source": [
        "data=pd.read_csv('/content/synthetic_renewable_energy_analysis.csv')\n",
        "results=analyze_renewable_gdp_correlation(data)\n",
        "print_detailed_metrics(results)\n",
        "\n",
        "plot=plot_comparison(data, results)\n",
        "plt.show()\n"
      ],
      "metadata": {
        "id": "8uoYFLRj_WYR"
      },
      "execution_count": null,
      "outputs": []
    }
  ]
}