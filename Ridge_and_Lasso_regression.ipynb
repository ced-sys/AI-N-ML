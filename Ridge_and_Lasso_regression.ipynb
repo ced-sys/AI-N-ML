{
  "nbformat": 4,
  "nbformat_minor": 0,
  "metadata": {
    "colab": {
      "private_outputs": true,
      "provenance": [],
      "authorship_tag": "ABX9TyO6TUldZRp5bii5Y7ffltMG",
      "include_colab_link": true
    },
    "kernelspec": {
      "name": "python3",
      "display_name": "Python 3"
    },
    "language_info": {
      "name": "python"
    }
  },
  "cells": [
    {
      "cell_type": "markdown",
      "metadata": {
        "id": "view-in-github",
        "colab_type": "text"
      },
      "source": [
        "<a href=\"https://colab.research.google.com/github/cedamusk/AI-N-ML/blob/main/Ridge_and_Lasso_regression.ipynb\" target=\"_parent\"><img src=\"https://colab.research.google.com/assets/colab-badge.svg\" alt=\"Open In Colab\"/></a>"
      ]
    },
    {
      "cell_type": "code",
      "execution_count": null,
      "metadata": {
        "id": "R8n331r2gxhy"
      },
      "outputs": [],
      "source": [
        "!pip install pandas numpy scikit-learn matplotlib seaborn"
      ]
    },
    {
      "cell_type": "code",
      "source": [
        "import pandas as pd\n",
        "import numpy as np\n",
        "from sklearn.model_selection import train_test_split, cross_val_score\n",
        "from sklearn.linear_model import LinearRegression, Ridge, Lasso\n",
        "from sklearn.preprocessing import StandardScaler\n",
        "from sklearn.metrics import mean_squared_error, r2_score\n",
        "import matplotlib.pyplot as plt\n",
        "import seaborn as sns\n",
        "\n"
      ],
      "metadata": {
        "id": "rugWb_0Kg9sn"
      },
      "execution_count": null,
      "outputs": []
    },
    {
      "cell_type": "code",
      "source": [
        "def prepare_data(df):\n",
        "  X=df.drop(['Y', 'Year'], axis=1)\n",
        "  y=df['Y']\n",
        "\n",
        "  X_train, X_test, y_train, y_test=train_test_split(X, y, test_size=0.2, random_state=42)\n",
        "\n",
        "  scaler=StandardScaler()\n",
        "  X_train_scaled=scaler.fit_transform(X_train)\n",
        "  X_test_scaled=scaler.transform(X_test)\n",
        "\n",
        "  return X_train_scaled, X_test_scaled, y_train, y_test, scaler"
      ],
      "metadata": {
        "id": "21UXu3lzhvi1"
      },
      "execution_count": null,
      "outputs": []
    },
    {
      "cell_type": "code",
      "source": [
        "def train_and_evaluate_models(X_train, X_test, y_train, y_test):\n",
        "  models={\n",
        "      'Linear Regression': LinearRegression(),\n",
        "      'Ridge Regression': Ridge (alpha=1.0),\n",
        "      \"Lasso Regression\": Lasso(alpha=1.0)\n",
        "  }\n",
        "\n",
        "  results={}\n",
        "\n",
        "  for name, model in models.items():\n",
        "    model.fit(X_train, y_train)\n",
        "\n",
        "    y_train_pred=model.predict(X_train)\n",
        "    y_test_pred=model.predict(X_test)\n",
        "\n",
        "    train_mse=mean_squared_error(y_train, y_train_pred)\n",
        "    test_mse=mean_squared_error(y_test, y_test_pred)\n",
        "    train_r2=r2_score(y_train, y_train_pred)\n",
        "    test_r2=r2_score(y_test, y_test_pred)\n",
        "\n",
        "    cv_scores=cross_val_score(model, X_train, y_train, cv=5, scoring='r2')\n",
        "\n",
        "    results[name]={\n",
        "        'model':model,\n",
        "        'train_predictions': y_train_pred,\n",
        "        'test_predictions': y_test_pred,\n",
        "        'train_rmse': np.sqrt(train_mse),\n",
        "        'train_r2': train_r2,\n",
        "        'test_r2': test_r2,\n",
        "        'cv_scores_mean':cv_scores.mean(),\n",
        "        'cv_scores_std': cv_scores.std()\n",
        "    }\n",
        "\n",
        "  return results"
      ],
      "metadata": {
        "id": "7ZGunLEyigiC"
      },
      "execution_count": null,
      "outputs": []
    },
    {
      "cell_type": "code",
      "source": [
        "def plot_feature_importance(model, feature_names):\n",
        "  importance=pd.DataFrame({\n",
        "      'feature': feature_names,\n",
        "      'coefficient': np.abs(model.coef_)\n",
        "  })\n",
        "\n",
        "  importance=importance.sort_values('coefficient', ascending=False)\n",
        "\n",
        "  plt.figure(figsize=(12, 6))\n",
        "  plt.bar(importance['feature'], importance['coefficient'])\n",
        "  plt.xticks(rotation=45)\n",
        "  plt.title('Feature Importance')\n",
        "  plt.xlabel('Features')\n",
        "  plt.ylabel(\"Absolute Coefficient Value\")\n",
        "  plt.tight_layout()\n",
        "  plt.show()"
      ],
      "metadata": {
        "id": "9Hsp_j7vkoJe"
      },
      "execution_count": null,
      "outputs": []
    },
    {
      "cell_type": "code",
      "source": [
        "def plot_predictions_vs_actual(results, y_train, y_test):\n",
        "  fig, axes=plt.subplots(len(results), 2, figsize=(15, 5*len(results)))\n",
        "  fig.suptitle('Predicted Vs Actual Values for All Models', y=1.02, fontsize=16)\n",
        "\n",
        "  for i, (name, metrics) in enumerate(results.items()):\n",
        "    axes[i, 0].scatter(y_train, metrics['train_predictions'], alpha=0.5)\n",
        "    axes[i, 0].plot([y_train.min(), y_train.max()], [y_train.min(), y_train.max()], 'r--', lw=2)\n",
        "    axes[i, 0].set_title(f'{name}-Training Set')\n",
        "    axes[i, 0].set_xlabel(\"Actual Values\")\n",
        "    axes[i, 0].set_ylabel('Predicted Values')\n",
        "\n",
        "    axes[i,1].scatter(y_test, metrics['test_predictions'], alpha=0.5)\n",
        "    axes[i,1].plot([y_test.min(), y_test.max()], [y_test.min(), y_test.max()], 'r--', lw=2)\n",
        "    axes[i,1].set_title(f'{name}-Test Set')\n",
        "    axes[i,1].set_xlabel(\"Actual Values\")\n",
        "    axes[i, 1].set_ylabel(\"Predicted Values\")\n",
        "\n",
        "  plt.tight_layout()\n",
        "  plt.show()\n"
      ],
      "metadata": {
        "id": "gOWtOS2jlfDl"
      },
      "execution_count": null,
      "outputs": []
    },
    {
      "cell_type": "code",
      "source": [
        "def plot_residuals(results, y_train, y_test):\n",
        "  fig, axes=plt.subplots(len(results), 2, figsize=(15, 5*len(results)))\n",
        "  fig.suptitle('residual Plots for All models', y=1.02, fontsize=16)\n",
        "\n",
        "  for i, (name, metrics) in enumerate(results.items()):\n",
        "\n",
        "    train_residuals=y_train-metrics['train_predictions']\n",
        "    axes[i, 0].scatter(metrics['train_predictions'], train_residuals, alpha=0.5)\n",
        "    axes[i, 0].axhline(y=0, color='r', linestyle='--')\n",
        "    axes[i, 0].set_title(f'{name}-Trainig Set residuals')\n",
        "    axes[i, 0].set_xlabel('Predicted Values')\n",
        "    axes[i, 0].set_ylabel(\"Residuals\")\n",
        "\n",
        "    test_residuals=y_test-metrics['test_predictions']\n",
        "    axes[i, 1].scatter(metrics['test_predictions'], test_residuals, alpha=0.5)\n",
        "    axes[i, 1].axhline(y=0, color='r', linestyle='--')\n",
        "    axes[i, 1].set_title(f'{name}-Test set Residuals')\n",
        "    axes[i, 1].set_xlabel('Predicted Values')\n",
        "    axes[i, 1].set_ylabel('Residuals')\n",
        "\n",
        "  plt.tight_layout()\n",
        "  plt.show()"
      ],
      "metadata": {
        "id": "mohFaHdVnl60"
      },
      "execution_count": null,
      "outputs": []
    },
    {
      "cell_type": "code",
      "source": [
        "def plot_error_distribution(results, y_train, y_test):\n",
        "  fig, axes=plt.subplots(len(results), 2, figsize=(15, 5*len(results)))\n",
        "  fig.suptitle('Error Distribution for All models', y=1.02, fontsize=16)\n",
        "\n",
        "  for i, (name, metrics) in enumerate(results.items()):\n",
        "    train_errors=y_train-metrics['train_predictions']\n",
        "    sns.histplot(train_errors, kde=True, ax=axes[i, 0])\n",
        "    axes[i, 0].set_title(f'{name}- Training Error distribution')\n",
        "    axes[i, 0].set_xlabel('Prediction Error')\n",
        "\n",
        "    test_errors=y_test-metrics['test_predictions']\n",
        "    sns.histplot(test_errors, kde=True, ax=axes[i, 1])\n",
        "    axes[i, 1].set_title(f'{name}- Test Error Distribution')\n",
        "    axes[i, 1].set_xlabel('Prediction Error')\n",
        "\n",
        "  plt.tight_layout()\n",
        "  plt.show()"
      ],
      "metadata": {
        "id": "0gISVA6ypXnk"
      },
      "execution_count": null,
      "outputs": []
    },
    {
      "cell_type": "code",
      "source": [
        "df=pd.read_csv('synthetic_ridge_lasso_data.csv')\n",
        "X_train, X_test, y_train, y_test, scaler=prepare_data(df)\n",
        "\n",
        "results=train_and_evaluate_models(X_train, X_test, y_train, y_test)\n",
        "\n",
        "for name, metrics in results.items():\n",
        "  print(f\"\\n{name} Results:\")\n",
        "  print(f\"Training RMSE: {metrics['train_rmse']:.4f}\")\n",
        "  print(f\"Training R2 Score: {metrics['train_r2']:.4f}\")\n",
        "  print(f\"Test R2 Score: {metrics['test_r2']:.4f}\")\n",
        "  print(f\"Cross-validation R2(mean +/- std): {metrics['cv_scores_mean']:.4f}+/-{metrics['cv_scores_std']:.4f}\")\n",
        "\n",
        "  plot_feature_importance(results['Linear Regression']['model'], df.drop([\"Y\", \"Year\"], axis=1).columns)\n",
        "  plot_predictions_vs_actual(results, y_train, y_test)\n",
        "  plot_residuals(results, y_train, y_test)\n",
        "  plot_error_distribution(results, y_train, y_test)"
      ],
      "metadata": {
        "id": "H9pEgDUYqxim"
      },
      "execution_count": null,
      "outputs": []
    }
  ]
}