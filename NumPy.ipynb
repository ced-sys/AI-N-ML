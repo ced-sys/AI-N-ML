{
  "nbformat": 4,
  "nbformat_minor": 0,
  "metadata": {
    "colab": {
      "provenance": [],
      "authorship_tag": "ABX9TyMb1BYVPzV1U16k0O6kXIE7",
      "include_colab_link": true
    },
    "kernelspec": {
      "name": "python3",
      "display_name": "Python 3"
    },
    "language_info": {
      "name": "python"
    }
  },
  "cells": [
    {
      "cell_type": "markdown",
      "metadata": {
        "id": "view-in-github",
        "colab_type": "text"
      },
      "source": [
        "<a href=\"https://colab.research.google.com/github/cedamusk/AI-N-ML/blob/Tools/NumPy.ipynb\" target=\"_parent\"><img src=\"https://colab.research.google.com/assets/colab-badge.svg\" alt=\"Open In Colab\"/></a>"
      ]
    },
    {
      "cell_type": "markdown",
      "source": [
        "# What is NumPy\n",
        "**Numpy** (Numerical Python) is a popular Python Library used for mumerical computations. It provides support for large multi-dimensional arrays and matrices, along with a collection of mathematical functions to operate on them efficiently. NumPy is the foundation for many other Python libraries, such as Pandas, scikit-learn, TensorFlow, and PyTorch, making it essential for data science and machine learning.\n",
        "\n",
        "##Core Features of NumPy\n",
        "1. **N-dimensionl array (`ndarray`)**: Enables efficient storage and manipulation of homogenous data types in multiple dimensions.\n",
        "\n",
        "2. **Mathematical Functions**: Offers a wide reange of functions for statistical, linear algebra and trigonometric computations.\n",
        "\n",
        "3. **Broadcasting**: Simplifies element-wise operations on arrays of different shapes.\n",
        "\n",
        "4. **High Performance**: Uses low-level C and Fortran code for speed, outperforming native Python lists for numerical tasks.\n",
        "\n",
        "##NumPy in Machine Learning\n",
        "In Machine Learning, data is often represented as numerical arrays or matrices, and operations such as matrix multiplication, statistical analysis and data scaling need to be performed efficiently. NumPy provides a foundation for manipulating and preparing datasets, functions for linear algebra, which is critical for algorithms such as regression, clustering and neural networks and provides a high performance that enables faster development and training for ML models.\n",
        "\n",
        "##Use cases in ML\n",
        "1. **Data Preparation**\n",
        "*  **Loading Datasets**: NumPy can handle data in CSV, text, or binary format.\n",
        "\n",
        "* **Data Cleaning**: Perform operations like replacing missing values, filtering rows, or scaling features.\n",
        "\n",
        "* **Data Transformation**: Convert raw data into numerical formats, normalize, or apply feature engineering.\n",
        "\n",
        "2. **Mathematical Computations**\n",
        "* **Vectorized Operations**: Perform arithmetic across entire datasets without writing explicit loops.\n",
        "\n",
        "* **Matrix Operations**: Useful for linear regression, SVMs and deep learning where matrix multiplication and inversion are critical.\n",
        "\n",
        "* **Statistical Analysis**: Compute mean, median, standard deviation, or variance to analyze datasets.\n",
        "\n",
        "3. **Feature Scaling**: Rescaling features to standardize their range (e.g., normalization or z-score normalization).\n",
        "\n",
        "4. **Implementation of algorithms**: Instead of using ML frameworks, one can use NumPy to build algorithms from scratch.\n",
        "\n",
        "5. **Performance Optimization**: Use NumPy arrays to speed up custome implementations of ML models over using Python Lists.\n",
        "\n"
      ],
      "metadata": {
        "id": "k-E9961yZj80"
      }
    },
    {
      "cell_type": "markdown",
      "source": [
        "## NumPy Guide\n",
        "**Install NumPy**\n"
      ],
      "metadata": {
        "id": "Li7yD19XltpO"
      }
    },
    {
      "cell_type": "code",
      "source": [
        "!pip install numpy"
      ],
      "metadata": {
        "colab": {
          "base_uri": "https://localhost:8080/"
        },
        "id": "EMwi1j-zmdpW",
        "outputId": "162be929-31f0-4d37-f10c-f41a0229e16f"
      },
      "execution_count": 5,
      "outputs": [
        {
          "output_type": "stream",
          "name": "stdout",
          "text": [
            "Requirement already satisfied: numpy in /usr/local/lib/python3.11/dist-packages (1.26.4)\n"
          ]
        }
      ]
    },
    {
      "cell_type": "markdown",
      "source": [
        "**Import NumPy**"
      ],
      "metadata": {
        "id": "Bzsz0Xl4nQDo"
      }
    },
    {
      "cell_type": "code",
      "source": [
        "import numpy as np"
      ],
      "metadata": {
        "id": "HDUZqhtanICu"
      },
      "execution_count": null,
      "outputs": []
    },
    {
      "cell_type": "markdown",
      "source": [
        "### Basic NumPy operations\n",
        "\n",
        "**Creating Arrays**"
      ],
      "metadata": {
        "id": "4ouE7zL4ngEQ"
      }
    },
    {
      "cell_type": "code",
      "source": [
        "#Create a 1D array\n",
        "array_1d=np.array([1,2,3,4,5])\n",
        "print(\"1D array:\", array_1d)\n",
        "\n",
        "#Create a 2D array (matrix)\n",
        "array_2d=np.array([[1,2,3],\n",
        "                   [4,5,6]])\n",
        "print(\"\\n2D array:\\n\", array_2d)\n",
        "\n",
        "#Create arrays with specific values\n",
        "zeros=np.zeros((3,3)) #3 by 3 array of zeros\n",
        "ones=np.ones((2,2)) #2 by 2 array of ones\n",
        "random=np.random.rand(3,3) #3 by 3 array of random values\n",
        "\n",
        "print(\"\\nZeros:\\n\", zeros)\n",
        "print(\"\\nOnes\\n\", ones)\n",
        "print(\"\\nRandom:\\n\", random)"
      ],
      "metadata": {
        "colab": {
          "base_uri": "https://localhost:8080/"
        },
        "id": "uVOrPnInnpO_",
        "outputId": "9797f03e-b0db-40e1-f820-4e2a2cb5a0c0"
      },
      "execution_count": 7,
      "outputs": [
        {
          "output_type": "stream",
          "name": "stdout",
          "text": [
            "1D array: [1 2 3 4 5]\n",
            "\n",
            "2D array:\n",
            " [[1 2 3]\n",
            " [4 5 6]]\n",
            "\n",
            "Zeros:\n",
            " [[0. 0. 0.]\n",
            " [0. 0. 0.]\n",
            " [0. 0. 0.]]\n",
            "\n",
            "Ones\n",
            " [[1. 1.]\n",
            " [1. 1.]]\n",
            "\n",
            "Random:\n",
            " [[0.00803289 0.62444621 0.02780389]\n",
            " [0.4356554  0.40285531 0.94543718]\n",
            " [0.4971037  0.08185212 0.25949347]]\n"
          ]
        }
      ]
    },
    {
      "cell_type": "markdown",
      "source": [
        "**Basic Operations**"
      ],
      "metadata": {
        "id": "ewWoN8nlo2Fa"
      }
    },
    {
      "cell_type": "code",
      "source": [
        "#Array arithmetic\n",
        "a=np.array([1,2,3])\n",
        "b=np.array([4,5,6])\n",
        "\n",
        "print(\"Addition:\", a+b)\n",
        "print(\"Multiplication:\", a*b)\n",
        "print(\"Square root:\", np.sqrt(a))\n",
        "print(\"Exponential:\", np.exp(a))\n",
        "\n",
        "#Matrix Operations\n",
        "matrix_a=np.array([[1,2], [3,4]])\n",
        "matrix_b=np.array([[5,6], [7,8]])\n",
        "\n",
        "print(\"\\nMatrix multiplication:\\n\", np.dot(matrix_a, matrix_b))\n",
        "print(\"\\nTranspose:\\n\", matrix_a.T)"
      ],
      "metadata": {
        "colab": {
          "base_uri": "https://localhost:8080/"
        },
        "id": "C126DZoWolZS",
        "outputId": "970462c5-1fdb-409e-ca9c-3d5f5ccf00bc"
      },
      "execution_count": 8,
      "outputs": [
        {
          "output_type": "stream",
          "name": "stdout",
          "text": [
            "Addition: [5 7 9]\n",
            "Multiplication: [ 4 10 18]\n",
            "Square root: [1.         1.41421356 1.73205081]\n",
            "Exponential: [ 2.71828183  7.3890561  20.08553692]\n",
            "\n",
            "Matrix multiplication:\n",
            " [[19 22]\n",
            " [43 50]]\n",
            "\n",
            "Transpose:\n",
            " [[1 3]\n",
            " [2 4]]\n"
          ]
        }
      ]
    },
    {
      "cell_type": "markdown",
      "source": [
        "### Working with Data\n",
        "\n",
        "**Data Loading and manipulation**"
      ],
      "metadata": {
        "id": "hdZ8WZjIp3U8"
      }
    },
    {
      "cell_type": "code",
      "source": [
        "#Create sample dataset\n",
        "data=np.array([[1,2,3],\n",
        "               [4,5,6],\n",
        "               [7,8,9],\n",
        "               [10,11,12]])\n",
        "\n",
        "#Accessing elements\n",
        "print(\"First row:\", data[0])\n",
        "print(\"First Column:\", data[:, 0])\n",
        "print(\"Specific element:\", data[1,1])\n",
        "\n",
        "#Slicing\n",
        "print(\"\\nFirst two rows:\\n\", data[:2])\n",
        "print(\"\\nLast two columns:\\n\", data[:, 1:])\n",
        "\n",
        "#Reshaping\n",
        "reshaped=data.reshape(2,6)\n",
        "print(\"\\nReshaped array:\\n\", reshaped)"
      ],
      "metadata": {
        "colab": {
          "base_uri": "https://localhost:8080/"
        },
        "id": "Y_xa6UpeprF5",
        "outputId": "d1013100-6a7d-4fcd-ef72-9462b38ed9ec"
      },
      "execution_count": 9,
      "outputs": [
        {
          "output_type": "stream",
          "name": "stdout",
          "text": [
            "First row: [1 2 3]\n",
            "First Column: [ 1  4  7 10]\n",
            "Specific element: 5\n",
            "\n",
            "First two rows:\n",
            " [[1 2 3]\n",
            " [4 5 6]]\n",
            "\n",
            "Last two columns:\n",
            " [[ 2  3]\n",
            " [ 5  6]\n",
            " [ 8  9]\n",
            " [11 12]]\n",
            "\n",
            "Reshaped array:\n",
            " [[ 1  2  3  4  5  6]\n",
            " [ 7  8  9 10 11 12]]\n"
          ]
        }
      ]
    },
    {
      "cell_type": "markdown",
      "source": [
        "**Data Preprocessing**"
      ],
      "metadata": {
        "id": "0vCT1kpavNBp"
      }
    },
    {
      "cell_type": "code",
      "source": [
        "#Normalize data (scale to 0-1 range)\n",
        "def normalize(data):\n",
        "  min_vals=np.min(data, axis=0)\n",
        "  max_vals=np.max(data, axis=0)\n",
        "  normalized=(data-min_vals)/(max_vals-min_vals)\n",
        "  return normalized\n",
        "\n",
        "#Standardized data (zero mean, unit variance)\n",
        "def standardize(data):\n",
        "  mean=np.mean(data, axis=0)\n",
        "  std=np.std(data, axis=0)\n",
        "  standardized=(data-mean)/std\n",
        "  return standardized\n",
        "\n",
        "#Example usage\n",
        "raw_data=np.array([[1, 10, 100],\n",
        "                   [2, 20, 200],\n",
        "                   [3, 30, 300]])\n",
        "\n",
        "print(\"Normalized data:\\n\", normalize(raw_data))\n",
        "print(\"\\nStandardized data:\\n\", standardize(raw_data))"
      ],
      "metadata": {
        "colab": {
          "base_uri": "https://localhost:8080/"
        },
        "id": "OIAI2fZGvKi2",
        "outputId": "1b4015b3-edee-4790-8e37-0b38a4dd5b72"
      },
      "execution_count": 10,
      "outputs": [
        {
          "output_type": "stream",
          "name": "stdout",
          "text": [
            "Normalized data:\n",
            " [[0.  0.  0. ]\n",
            " [0.5 0.5 0.5]\n",
            " [1.  1.  1. ]]\n",
            "\n",
            "Standardized data:\n",
            " [[-1.22474487 -1.22474487 -1.22474487]\n",
            " [ 0.          0.          0.        ]\n",
            " [ 1.22474487  1.22474487  1.22474487]]\n"
          ]
        }
      ]
    },
    {
      "cell_type": "markdown",
      "source": [
        "**Statistical Operations**"
      ],
      "metadata": {
        "id": "yhMBgykNyPoQ"
      }
    },
    {
      "cell_type": "code",
      "source": [
        "data=np.random.normal(0, 1, 1000)\n",
        "\n",
        "#Basic stats\n",
        "print(\"Mean:\", np.mean(data))\n",
        "print(\"Median:\", np.median(data))\n",
        "print(\"Standard deviation:\", np.std(data))\n",
        "print(\"Variance:\", np.var(data))\n",
        "\n",
        "#Percentiles\n",
        "percentiles=np.percentile(data, [25, 50, 75])\n",
        "print(\"\\nQuartiles:\", percentiles)\n",
        "\n",
        "#Correlation\n",
        "data_2d=np.random.rand(100,3)\n",
        "correlation=np.corrcoef(data_2d.T)\n",
        "print(\"\\nCorrelation matrix:\\n\", correlation)"
      ],
      "metadata": {
        "colab": {
          "base_uri": "https://localhost:8080/"
        },
        "id": "fuKdUkFayIZe",
        "outputId": "6eaac38b-70c7-458b-917f-ae2cd7bc1b9a"
      },
      "execution_count": 11,
      "outputs": [
        {
          "output_type": "stream",
          "name": "stdout",
          "text": [
            "Mean: -0.03321690110323572\n",
            "Median: -0.029637261193196415\n",
            "Standard deviation: 1.0082805546063294\n",
            "Variance: 1.0166296767972474\n",
            "\n",
            "Quartiles: [-0.70105876 -0.02963726  0.62569705]\n",
            "\n",
            "Correlation matrix:\n",
            " [[ 1.         -0.19262576  0.02536167]\n",
            " [-0.19262576  1.          0.11429591]\n",
            " [ 0.02536167  0.11429591  1.        ]]\n"
          ]
        }
      ]
    },
    {
      "cell_type": "markdown",
      "source": [
        "**Simple Linear Regression from scratch**"
      ],
      "metadata": {
        "id": "G-oWfbyk0flO"
      }
    },
    {
      "cell_type": "code",
      "source": [
        "#generate sample data\n",
        "np.random.seed(0)\n",
        "X=np.random.rand(100, 1)\n",
        "y=2*X+1+np.random.normal(0, 0.1, (100,1))\n",
        "\n",
        "#Implement linear regression\n",
        "def linear_regression(X, y):\n",
        "  #add bias term\n",
        "  X_b=np.c_[np.ones((X.shape[0], 1)), X]\n",
        "\n",
        "  #Calculate weights using normal equation\n",
        "  weights=np.linalg.inv(X_b.T.dot(X_b)).dot(X_b.T).dot(y)\n",
        "\n",
        "  return weights\n",
        "\n",
        "#Train model\n",
        "weights=linear_regression(X, y)\n",
        "print(\"Linear weights (bias, slope):\", weights.flatten())\n",
        "\n",
        "#Make predictions\n",
        "X_new=np.array([[0], [1]])\n",
        "X_new_b=np.c_[np.ones((2,1)), X_new]\n",
        "y_pred=X_new_b.dot(weights)\n",
        "\n",
        "print(\"\\nPredictions for X=0 and X=1:\", y_pred.flatten())\n"
      ],
      "metadata": {
        "colab": {
          "base_uri": "https://localhost:8080/"
        },
        "id": "S9PmaL6mzBQ2",
        "outputId": "bf5a4c9d-3cec-4d3a-ed6b-dab742cacfea"
      },
      "execution_count": 14,
      "outputs": [
        {
          "output_type": "stream",
          "name": "stdout",
          "text": [
            "Linear weights (bias, slope): [1.02221511 1.9936935 ]\n",
            "\n",
            "Predictions for X=0 and X=1: [1.02221511 3.01590861]\n"
          ]
        }
      ]
    }
  ]
}