{
  "nbformat": 4,
  "nbformat_minor": 0,
  "metadata": {
    "colab": {
      "provenance": [],
      "authorship_tag": "ABX9TyPXe4NwXQdQZoVITuQZkjTB",
      "include_colab_link": true
    },
    "kernelspec": {
      "name": "python3",
      "display_name": "Python 3"
    },
    "language_info": {
      "name": "python"
    }
  },
  "cells": [
    {
      "cell_type": "markdown",
      "metadata": {
        "id": "view-in-github",
        "colab_type": "text"
      },
      "source": [
        "<a href=\"https://colab.research.google.com/github/ced-sys/AI-N-ML/blob/main/GeoThermoAI(Draft).ipynb\" target=\"_parent\"><img src=\"https://colab.research.google.com/assets/colab-badge.svg\" alt=\"Open In Colab\"/></a>"
      ]
    },
    {
      "cell_type": "code",
      "execution_count": 1,
      "metadata": {
        "colab": {
          "base_uri": "https://localhost:8080/"
        },
        "id": "BLMpNoY9MA0l",
        "outputId": "3587ac9d-4efe-4761-85a4-fcf3d459999e"
      },
      "outputs": [
        {
          "output_type": "stream",
          "name": "stdout",
          "text": [
            "Requirement already satisfied: graphviz in /usr/local/lib/python3.11/dist-packages (0.20.3)\n",
            "Requirement already satisfied: pydotplus in /usr/local/lib/python3.11/dist-packages (2.0.2)\n",
            "Requirement already satisfied: pyparsing>=2.0.1 in /usr/local/lib/python3.11/dist-packages (from pydotplus) (3.2.3)\n"
          ]
        }
      ],
      "source": [
        "!pip install graphviz pydotplus"
      ]
    },
    {
      "cell_type": "code",
      "source": [
        "import pandas as pd\n",
        "import numpy as np\n",
        "import matplotlib.pyplot as plt\n",
        "import seaborn as sns\n",
        "from sklearn.tree import DecisionTreeClassifier, plot_tree, export_graphviz\n",
        "from sklearn.model_selection import train_test_split\n",
        "from sklearn.metrics import classification_report, confusion_matrix\n",
        "import graphviz\n",
        "from IPython.display import display, Image\n",
        "import pydotplus\n",
        "import io"
      ],
      "metadata": {
        "id": "px9L2aEUO9AQ"
      },
      "execution_count": 2,
      "outputs": []
    },
    {
      "cell_type": "code",
      "source": [
        "np.random.seed(42)"
      ],
      "metadata": {
        "id": "wNSMfWjaPn1l"
      },
      "execution_count": 3,
      "outputs": []
    },
    {
      "cell_type": "code",
      "source": [
        "def generate_geothermal_data(n_samples=500):\n",
        "  \"\"\"\n",
        "  Generate synthetic data for geothermal site classification with realistic relationships\n",
        "\n",
        "  Parameters: n_samples (int): Number of smaples generate\n",
        "\n",
        "  Returns: X(DataFrame): Features y(Features): Target labels\n",
        "  \"\"\"\n",
        "  data=pd.DataFrame()\n",
        "\n",
        "  #Heat flow (mW/ m**2)\n",
        "  data['heat_flow']=np.random.gamma(shape=3, scale=20, size=n_samples)+20\n",
        "\n",
        "  #Rock type (0: sedimentary, 1: plutonic, 2: Volcanic)\n",
        "  data['rock_type']=np.random.choice([0,1,2], size=n_samples, p=[0.5, 0.3, 0.2])\n",
        "\n",
        "  #Fault proximity (Km) - distance to nearest fault\n",
        "  data['fault_distance']=np.random.exponential(scale=10, size=n_samples)\n",
        "\n",
        "  #Hydrothermal alteration (0:None, 1: Weak, 2: Moderate, 3:Strong)\n",
        "  data['alteration']=np.random.choice([0, 1, 2, 3], size=n_samples, p=[0.6, 0.3, 0.15, 0.05])\n",
        "\n",
        "  #Resistivity (ohm-m)-low values can indicate hydrothermal fluids\n",
        "  #Create a bimodal distribution to represent both conductive and resistive zones\n",
        "  resistivity_high=np.random.lognormal(mean=5, sigma=1, size=int(n_samples*0.7))\n",
        "  resistivity_low=np.random.lognormal(mean=2, sigma=0.5, size=n_samples-int(n_samples*0.7))\n",
        "  data['resistivity']=np.concatenate([resistivity_high, resistivity_low])\n",
        "  np.random.shuffle(data['resistivity'])\n",
        "\n",
        "  #Surface Temperature anomaly\n",
        "  data['temp_anomaly']=np.random.exponential(scale=2, size=n_samples)\n",
        "\n",
        "  #Presence of Hot Springs or Fumaroles (0:None, 1:Present)\n",
        "  data['hot_springs']=np.random.choice([0, 1], size=n_samples, p=[0.85, 0.15])\n",
        "\n",
        "  #Seismic activity (events per year in the vicinity)\n",
        "  data['seismic_activity']=np.random.poisson(lam=2, size=n_samples)\n",
        "\n",
        "  #Gravity anomal (mGal)\n",
        "  data['gravity_anomaly']=np.random.normal(loc=0, scale=5, size=n_samples)\n",
        "\n",
        "  #Geochemical Signatures (0:None, 1: Weak, 2: Strong)\n",
        "  data['geochemical']=np.random.choice([0, 1, 2], size=n_samples, p=[0.7, 0.2, 0.1])\n",
        "\n",
        "  #Createtarget variable based on realistic geological rules\n",
        "  y=np.zeros(n_samples, dtype=int)\n",
        "\n",
        "  #High potential (2) criteria\n",
        "  high_potential=(\n",
        "      ((data['heat_flow']>80)& (data['fault_distance']<5)& (data['resistivity']<20))|\n",
        "      ((data['heat_flow']>80)& (data['fault_distance']<5)& (data['seismic_activity']>5))|\n",
        "      ((data['hot_springs']>80)& (data['rock_type']==2)&(data['alteration']>=2)) |\n",
        "      ((data['hot_sprigs']==1)& (data['alteration']>=2)& (data['temp_anomaly']>3)) |\n",
        "      ((data['hot_springs']==1)& (data['geochemical']==2)& (data['resistivity']<30))\n",
        "\n",
        "  )\n",
        "  y[high_potential]=2\n",
        "\n",
        "  #Moderate Potential (1) Criteria\n",
        "  moderate_potential=(\n",
        "      ((data['heat_flow']>60)& (data['heat_flow']<=80)& (data['fault_distance']<10))|\n",
        "      ((data['heat_flow']>80)& (data['fault_distance']>=5)& (data['fault_distance']<10))|\n",
        "      ((data['hot_springs']==1)& (data['alteration']==1))|\n",
        "      ((data['heat_flow']>60)& (data['rock_type']==1)& (data['fault_distance']<15))|\n",
        "      ((data['heat_flow']<=60)& (data['hot_springs']==1)&(data['alteration']<2))|\n",
        "      ((data['heat_flow']>60)& (data['heat_flow']<=80)& (data['gravity_anomaly'].abs()>5))\n",
        "  )\n",
        "\n",
        "  #Only set to moderate ifnot already set to high\n",
        "  moderate_potential=moderate_potential & (y!=2)\n",
        "  y[moderate_potential]=1\n",
        "\n",
        "  #Low potential (0) is default\n",
        "\n",
        "  #Create target names forclarity\n",
        "  y_names=pd.Series(y).map({0: \"Low\", 1:\"Moderate\", 2:\"High\"})\n",
        "\n",
        "  #Shuffle data\n",
        "  shuffled_indices=np.random.permutation(n_samples)\n",
        "  return data.iloc[shuffled_indices].reset_index(drop=True), y[shuffled_indices], y_names.iloc[shuffled_indices].reset_index(drop=True)\n",
        "\n",
        "\n"
      ],
      "metadata": {
        "id": "p9o3fVLnPrd4"
      },
      "execution_count": null,
      "outputs": []
    }
  ]
}