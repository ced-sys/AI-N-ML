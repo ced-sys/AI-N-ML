{
  "nbformat": 4,
  "nbformat_minor": 0,
  "metadata": {
    "colab": {
      "private_outputs": true,
      "provenance": [],
      "authorship_tag": "ABX9TyPaxVJAhxw2yesIho4yDeKd",
      "include_colab_link": true
    },
    "kernelspec": {
      "name": "python3",
      "display_name": "Python 3"
    },
    "language_info": {
      "name": "python"
    }
  },
  "cells": [
    {
      "cell_type": "markdown",
      "metadata": {
        "id": "view-in-github",
        "colab_type": "text"
      },
      "source": [
        "<a href=\"https://colab.research.google.com/github/cedamusk/AI-N-ML/blob/main/Weighted_regression.ipynb\" target=\"_parent\"><img src=\"https://colab.research.google.com/assets/colab-badge.svg\" alt=\"Open In Colab\"/></a>"
      ]
    },
    {
      "cell_type": "markdown",
      "source": [
        "# Weighted Regression\n",
        "## Setup essential imports\n",
        "1. `pandas`: For data manipulation and analysis, e.g., loading CSV files or handling dataframes.\n",
        "\n",
        "2. `numpy`: For numerical computations, e.g., creating arrays, mathematical operations.\n",
        "\n",
        "3. `sklearn.linear_model.LinearRegression`: Implements the Linear Regression model for supervised learning tasks.\n",
        "\n",
        "4. `matplotlib.pyplot`: Fr creating visualiztions, such as plotting regression results."
      ],
      "metadata": {
        "id": "Th8q3Q_WgqID"
      }
    },
    {
      "cell_type": "code",
      "execution_count": null,
      "metadata": {
        "id": "NgZKCy_sbb4Y"
      },
      "outputs": [],
      "source": [
        "import pandas as pd\n",
        "import numpy as np\n",
        "from sklearn.linear_model import LinearRegression\n",
        "import matplotlib.pyplot as plt"
      ]
    },
    {
      "cell_type": "markdown",
      "source": [
        "## Data\n",
        "A DataFrame with our columns: `Year`, `X`, `weight` and `Y`."
      ],
      "metadata": {
        "id": "L6L64HnQhsZc"
      }
    },
    {
      "cell_type": "code",
      "source": [
        "data=pd.DataFrame({\n",
        "    'Year': [2010, 2011, 2012, 2013, 2014, 2015, 2016, 2017,2018, 2019],\n",
        "    'X':[10.0, 14.44, 18.89, 23.33, 27.78, 32.22, 36.67, 41.11, 45.56, 50.0],\n",
        "    'Weight':[1.32, 1.36, 0.51, 1.01, 0.92, 0.72, 0.62, 0.84, 1.44, 0.82],\n",
        "    'Y': [30.46, 27.27, 30.50, 33.44, 31.94, 40.72, 44.45, 54.08, 50.61, 55.74]\n",
        "})\n"
      ],
      "metadata": {
        "id": "lHAM6lhfcFz9"
      },
      "execution_count": null,
      "outputs": []
    },
    {
      "cell_type": "markdown",
      "source": [
        "## Weighted Regression\n",
        "The function below performs a weighted regression on the dataset above.\n",
        "\n",
        "###Functionality\n",
        "1. **Input Parameters**:\n",
        "\n",
        "    `X`: Independent variable(s).\n",
        "\n",
        "    `y`: Dependent variable.\n",
        "\n",
        "    `weights`: Weights apply to each data point.\n",
        "\n",
        "2. **Steps**:\n",
        "\n",
        "  Reshape `x` to ensure it's a 2D array for `LinearRegression`.\n",
        "\n",
        "  Create and fit a weighted linear regression model using the `sample_weight` parameter.\n",
        "\n",
        "  Calculate predictions (`y_pred`) for the given `X`.\n",
        "\n",
        "  Compute the weighted mean of `y`.\n",
        "\n",
        "  Calculate the weighted total sum of squares (`weighted_total_ss`).\n",
        "\n",
        "  Calculate the weighted residual sum of squares (`weighted_residual_ss`).\n",
        "\n",
        "  Derive the weighted R^2 score.\n",
        "\n",
        "3. **Output**:\n",
        "\n",
        "  Returns the trained model, predictions and weighted R^2 score.\n"
      ],
      "metadata": {
        "id": "A-K-KUPQiCRc"
      }
    },
    {
      "cell_type": "code",
      "source": [
        "def perform_weighted_regression(X, y, weights):\n",
        "  X=X.values.reshape(-1, 1)\n",
        "\n",
        "  weighted_model=LinearRegression()\n",
        "  weighted_model.fit(X, y, sample_weight=weights)\n",
        "\n",
        "  y_pred=weighted_model.predict(X)\n",
        "\n",
        "  weighted_mean=np.average(y, weights=weights)\n",
        "  weighted_total_ss=np.sum(weights*(y-weighted_mean)**2)\n",
        "  weighted_residual_ss=np.sum(weights*(y-y_pred)**2)\n",
        "  weighted_r2=1- (weighted_residual_ss/ weighted_total_ss)\n",
        "\n",
        "  return weighted_model, y_pred, weighted_r2"
      ],
      "metadata": {
        "id": "btKHdTn7c2w1"
      },
      "execution_count": null,
      "outputs": []
    },
    {
      "cell_type": "markdown",
      "source": [
        "## Visualization of the Model\n",
        "###Functionality\n",
        "\n",
        "1. **Extract Variables**:\n",
        "\n",
        "  `X`, `y` and ` weights` are extracted from your `data` DataFrame.\n",
        "\n",
        "2. **Perform Weighted Regression**:\n",
        "\n",
        "  Uses your `perform_weighted_regression` function to calculate the model, predictions and weighted R^2.\n",
        "\n",
        "3. **Visualization**:\n",
        "\n",
        "  A scatter plot of the data points, where the size of each point is proportional to the `weights` (scaled for better visibility).\n",
        "\n",
        "  The weighted regression line is overlaid in red (`r--`).\n",
        "\n",
        "4. **Output results**:\n",
        "\n",
        "  Prints the model's intercept, slope and weighted R^2 value, formatted to four decimal places for clarity."
      ],
      "metadata": {
        "id": "C-lPYPofmHEq"
      }
    },
    {
      "cell_type": "code",
      "source": [
        "X= data['X']\n",
        "y=data['Y']\n",
        "weights=data['Weight']\n",
        "\n",
        "model, predictions, r2=perform_weighted_regression(X, y, weights)\n",
        "\n",
        "plt.figure(figsize=(10, 6))\n",
        "plt.scatter(X, y, c='blue', alpha=0.5, s=weights*100, label='Data Points (Size=weight)')\n",
        "plt.plot(X, predictions, 'r-', label='Weighted Regression Line')\n",
        "plt.xlabel('X')\n",
        "plt.ylabel('Y')\n",
        "plt.title('Weighted Linear Regression')\n",
        "plt.legend()\n",
        "\n",
        "print(f\"Intercept: {model.intercept_:.4f}\")\n",
        "print(f\"Slope: {model.coef_[0]:.4f}\")\n",
        "print(f\"Weighted R-squared:{r2:.4f}\")"
      ],
      "metadata": {
        "id": "siChX7Z7doml"
      },
      "execution_count": null,
      "outputs": []
    },
    {
      "cell_type": "markdown",
      "source": [
        "## Make prediction\n",
        "The code demonstrates how to use the trained weighted regression model to predict a value for a new input.\n",
        "\n",
        "###Functionality\n",
        "1. **Input New value(`X_new`)**:\n",
        "\n",
        "  The value `X_new=30` represents a new independent variable value.\n",
        "\n",
        "2. **Prediction**:\n",
        "  The `predict` method of the trained `model` is used to calculate the predicted value of `Y` for `X_new`.\n",
        "\n",
        "  Since `LinearRegression` expects a 2D array, `X_new` is wrapped in double brackets (`[[X_new]]`).\n",
        "\n",
        "3. **Output the Prediction**:\n",
        "\n",
        "  Print the predicted `Y` value formatted to four decimal places."
      ],
      "metadata": {
        "id": "f9U2GJ9wncTa"
      }
    },
    {
      "cell_type": "code",
      "source": [
        "X_new=30\n",
        "prediction=model.predict([[X_new]])\n",
        "print(f\"\\nPredicted Y for X ={X_new}: {prediction[0]:.4f}\")"
      ],
      "metadata": {
        "id": "FIdUYvyVitHC"
      },
      "execution_count": null,
      "outputs": []
    }
  ]
}