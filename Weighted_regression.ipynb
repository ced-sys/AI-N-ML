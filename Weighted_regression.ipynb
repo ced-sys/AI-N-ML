{
  "nbformat": 4,
  "nbformat_minor": 0,
  "metadata": {
    "colab": {
      "private_outputs": true,
      "provenance": [],
      "authorship_tag": "ABX9TyN/V4g8Hd61E7lZIfXKD+ab",
      "include_colab_link": true
    },
    "kernelspec": {
      "name": "python3",
      "display_name": "Python 3"
    },
    "language_info": {
      "name": "python"
    }
  },
  "cells": [
    {
      "cell_type": "markdown",
      "metadata": {
        "id": "view-in-github",
        "colab_type": "text"
      },
      "source": [
        "<a href=\"https://colab.research.google.com/github/cedamusk/AI-N-ML/blob/main/Weighted_regression.ipynb\" target=\"_parent\"><img src=\"https://colab.research.google.com/assets/colab-badge.svg\" alt=\"Open In Colab\"/></a>"
      ]
    },
    {
      "cell_type": "code",
      "execution_count": null,
      "metadata": {
        "id": "NgZKCy_sbb4Y"
      },
      "outputs": [],
      "source": [
        "import pandas as pd\n",
        "import numpy as np\n",
        "from sklearn.linear_model import LinearRegression\n",
        "import matplotlib.pyplot as plt"
      ]
    },
    {
      "cell_type": "code",
      "source": [
        "data=pd.DataFrame({\n",
        "    'Year': [2010, 2011, 2012, 2013, 2014, 2015, 2016, 2017,2018, 2019],\n",
        "    'X':[10.0, 14.44, 18.89, 23.33, 27.78, 32.22, 36.67, 41.11, 45.56, 50.0],\n",
        "    'Weight':[1.32, 1.36, 0.51, 1.01, 0.92, 0.72, 0.62, 0.84, 1.44, 0.82],\n",
        "    'Y': [30.46, 27.27, 30.50, 33.44, 31.94, 40.72, 44.45, 54.08, 50.61, 55.74]\n",
        "})\n"
      ],
      "metadata": {
        "id": "lHAM6lhfcFz9"
      },
      "execution_count": null,
      "outputs": []
    },
    {
      "cell_type": "code",
      "source": [
        "def perform_weighted_regression(X, y, weights):\n",
        "  X=X.values.reshape(-1, 1)\n",
        "\n",
        "  weighted_model=LinearRegression()\n",
        "  weighted_model.fit(X, y, sample_weight=weights)\n",
        "\n",
        "  y_pred=weighted_model.predict(X)\n",
        "\n",
        "  weighted_mean=np.average(y, weights=weights)\n",
        "  weighted_total_ss=np.sum(weights*(y-weighted_mean)**2)\n",
        "  weighted_residual_ss=np.sum(weights*(y-y_pred)**2)\n",
        "  weighted_r2=1- (weighted_residual_ss/ weighted_total_ss)\n",
        "\n",
        "  return weighted_model, y_pred, weighted_r2"
      ],
      "metadata": {
        "id": "btKHdTn7c2w1"
      },
      "execution_count": null,
      "outputs": []
    },
    {
      "cell_type": "code",
      "source": [
        "X= data['X']\n",
        "y=data['Y']\n",
        "weights=data['Weight']\n",
        "\n",
        "model, predictions, r2=perform_weighted_regression(X, y, weights)\n",
        "\n",
        "plt.figure(figsize=(10, 6))\n",
        "plt.scatter(X, y, c='blue', alpha=0.5, s=weights*100, label='Data Points (Size=weight)')\n",
        "plt.plot(X, predictions, 'r-', label='Weighted Regression Line')\n",
        "plt.xlabel('X')\n",
        "plt.ylabel('Y')\n",
        "plt.title('Weighted Linear Regression')\n",
        "plt.legend()\n",
        "\n",
        "print(f\"Intercept: {model.intercept_:.4f}\")\n",
        "print(f\"Slope: {model.coef_[0]:.4f}\")\n",
        "print(f\"Weighted R-squared:{r2:.4f}\")"
      ],
      "metadata": {
        "id": "siChX7Z7doml"
      },
      "execution_count": null,
      "outputs": []
    },
    {
      "cell_type": "code",
      "source": [
        "X_new=30\n",
        "prediction=model.predict([[X_new]])\n",
        "print(f\"\\nPredicted Y for X ={X_new}: {prediction[0]:.4f}\")"
      ],
      "metadata": {
        "id": "FIdUYvyVitHC"
      },
      "execution_count": null,
      "outputs": []
    }
  ]
}