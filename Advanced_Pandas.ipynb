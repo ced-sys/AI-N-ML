{
  "nbformat": 4,
  "nbformat_minor": 0,
  "metadata": {
    "colab": {
      "provenance": [],
      "authorship_tag": "ABX9TyOGMaB77kQnreJAgnQjLGJD",
      "include_colab_link": true
    },
    "kernelspec": {
      "name": "python3",
      "display_name": "Python 3"
    },
    "language_info": {
      "name": "python"
    }
  },
  "cells": [
    {
      "cell_type": "markdown",
      "metadata": {
        "id": "view-in-github",
        "colab_type": "text"
      },
      "source": [
        "<a href=\"https://colab.research.google.com/github/cedamusk/AI-N-ML/blob/Tools/Advanced_Pandas.ipynb\" target=\"_parent\"><img src=\"https://colab.research.google.com/assets/colab-badge.svg\" alt=\"Open In Colab\"/></a>"
      ]
    },
    {
      "cell_type": "code",
      "execution_count": 12,
      "metadata": {
        "id": "BN6mKiiAdq8y"
      },
      "outputs": [],
      "source": [
        "import pandas as pd\n",
        "import numpy as np\n",
        "import matplotlib.pyplot as plt\n",
        "import seaborn as sns\n",
        "from typing import Dict, List, Union\n",
        "import logging\n",
        "from functools import wraps\n",
        "import time"
      ]
    },
    {
      "cell_type": "code",
      "source": [
        "logging.basicConfig(\n",
        "    level=logging.INFO,\n",
        "    format='%(asctime)s-%(levelname)-%(message)s'\n",
        ")"
      ],
      "metadata": {
        "id": "XEDYUxwSqZgO"
      },
      "execution_count": 13,
      "outputs": []
    },
    {
      "cell_type": "code",
      "source": [
        "def timer_decorator(func):\n",
        "  @wraps(func)\n",
        "  def wrapper(*args, **kwargs):\n",
        "    start_time=time.time()\n",
        "    result=func(*args, **kwargs)\n",
        "    end_time=time.time()\n",
        "    logging.info(f'{func.__name__}took{end_time-start_time:.2f} seconds to execute')\n",
        "    return result\n",
        "  return wrapper"
      ],
      "metadata": {
        "id": "Ak5r3gTYs4Ri"
      },
      "execution_count": 14,
      "outputs": []
    },
    {
      "cell_type": "code",
      "source": [
        "def setup_visualization_style():\n",
        "  plt.style.use('seaborn')\n",
        "  sns.set_palette('viridis')\n",
        "  plt.rcParams['figure.figsize']=(10, 6)\n",
        "  plt.rcParams['axes.grid']=True"
      ],
      "metadata": {
        "id": "wi8CgkCjtWAZ"
      },
      "execution_count": 15,
      "outputs": []
    },
    {
      "cell_type": "code",
      "source": [
        "class DataAnalyzer:\n",
        "  def __init__(self):\n",
        "    setup_visualization_style()\n",
        "\n",
        "  @timer_decorator\n",
        "  def create_multi_index_df(self, data: Dict)-> pd.DataFrame:\n",
        "    try:\n",
        "      df=pd.DataFrame(data)\n",
        "      if not all (col in df.columns for col in ['Region', 'Product', 'Sales']):\n",
        "        raise ValueError('Required columns missing fromm data')\n",
        "      df.set_index(['Region', 'Product'], inplace=True)\n",
        "      return df\n",
        "    except Exception as e:\n",
        "      logging.error(f\"Error creating multi-index DataFrame: {str(e)}\")\n",
        "      raise\n",
        "\n",
        "  @timer_decorator\n",
        "  def merge_dataframes(self, left_df: pd.DataFrame, right_df: pd.DataFrame,\n",
        "                       on_column: str, how: str='outer') -> pd.DataFrame:\n",
        "      try:\n",
        "        if on_column not in left_df.columns or on_column not in right_df.columns:\n",
        "          raise ValueError(f\"Merge column'{on_column}' not found in both DataFrames\")\n",
        "        return pd.merge(left_df, right_df, on=on_column, how=how)\n",
        "      except Exception as e:\n",
        "        logging.error(f\"Error merging DataFrames: {str(e)}\")\n",
        "        raise\n",
        "\n",
        "  @timer_decorator\n",
        "  def create_pivot_analysis(self, df: pd.DataFrame)-> Dict[str, pd.DataFrame]:\n",
        "    try:\n",
        "      df_reset=df.reset_index()\n",
        "      pivot_table=pd.pivot_table(\n",
        "          data=df_reset,\n",
        "          values='Sales',\n",
        "          index='Region',\n",
        "          columns='Product',\n",
        "          aggfunc=['sum', 'mean'],\n",
        "          margins=True\n",
        "      )\n",
        "\n",
        "      crosstab=pd.crosstab(\n",
        "          df_reset['Region'],\n",
        "          df_reset['Product'],\n",
        "          values=df_reset['Sales'],\n",
        "          aggfunc='sum',\n",
        "          margins=True\n",
        "      )\n",
        "\n",
        "      return {\n",
        "          'pivot_table': pivot_table,\n",
        "          'crosstab': crosstab\n",
        "      }\n",
        "\n",
        "    except Exception as e:\n",
        "      logging.error(f\"Error creating pivot analysis: {str(e)}\")\n",
        "      raise\n",
        "\n",
        "  @timer_decorator\n",
        "  def process_time_series(self, start_date: str, periods: int,\n",
        "                          freq: str='D')-> pd.DataFrame:\n",
        "      try:\n",
        "        dates=pd.date_range(start_date, periods=periods, freq=freq)\n",
        "        df=pd.DataFrame({\n",
        "            'Date': dates,\n",
        "            'Value': np.random.randn(len(dates)).cumsum(),\n",
        "            'Trend': np.linspace(0, 100, len(dates))\n",
        "        }).set_index('Date')\n",
        "\n",
        "        df['Rolling_Mean']=df['Value'].rolling(window=3).mean()\n",
        "        df['Rolling_Std']=df['Value'].rolling(window=3).std()\n",
        "\n",
        "        return df\n",
        "      except Exception as e:\n",
        "        logging.error(f\"Error processing time series: {str(e)}\")\n",
        "        raise\n",
        "\n",
        "  @staticmethod\n",
        "  def clean_dataframe(df: pd.DataFrame,\n",
        "                      numeric_fill_strategy: str='mean',\n",
        "                      categorical_fill_value: str='missing')-> pd.DataFrame:\n",
        "      try:\n",
        "        df_cleaned=df.copy()\n",
        "\n",
        "        numeric_cols=df_cleaned.select_dtypes(include=[np.number]).columns\n",
        "        for col in numeric_cols:\n",
        "          if numeric_fill_strategy=='mean':\n",
        "            fill_value=df_cleaned[col].mean()\n",
        "          elif numeric_fill_strategy=='median':\n",
        "            fill_value=df_cleaned[col].median()\n",
        "          else:\n",
        "            fill_value=0\n",
        "          df_cleaned[col].fillna(fill_value, inplace=True)\n",
        "\n",
        "          categorical_cols=df_cleaned.select_dtypes(include=['object']).columns\n",
        "          for col in categorical_cols:\n",
        "            df_cleaned[col].fillna(categorical_fill_value, inplace=True)\n",
        "\n",
        "          return df_cleaned\n",
        "\n",
        "      except Exception as e:\n",
        "        logging.error(f\"Error cleaning DataFrame: {str(e)}\")\n",
        "        raise\n",
        "\n",
        "  def visualize_data(self, df: pd.DataFrame, time_series_df: pd.DataFrame=None):\n",
        "    try:\n",
        "      fig=plt.figure(figsize=(15, 10))\n",
        "\n",
        "      plt.subplot(2,2,1)\n",
        "      sns.barplot(data=df.reset_index(), x='Region', y='Sales', hue='Product')\n",
        "      plt.title(\"Sales by Region and Product\")\n",
        "      plt.xticks(rotation=45)\n",
        "\n",
        "      plt.subplot(2, 2, 2)\n",
        "      sns.boxplot(data=df.reset_index(), x='Region', y='Sales')\n",
        "      plt.title(\"Sales Distribution by Region\")\n",
        "      plt.xticks(rotation=45)\n",
        "\n",
        "      if time_series_df is not None:\n",
        "        plt.subplot(2, 2, 3)\n",
        "        time_series_df[\"Value\"].plot(title='Time Series')\n",
        "        plt.title(\"Time Series Analysis\")\n",
        "\n",
        "        plt.subplot(2, 2, 4)\n",
        "        sns.heatmap(time_series_df.corr(), annot=True, cmap='coolwarm')\n",
        "        plt.title(\"Correlation Heatmap\")\n",
        "\n",
        "      plt.tight_layout()\n",
        "      plt.show()\n",
        "\n",
        "    except Exception as e:\n",
        "      logging.error(f\"Error creating visualizations: {str(e)}\")\n",
        "      raise\n"
      ],
      "metadata": {
        "id": "P8_SgQm5t8CX"
      },
      "execution_count": 16,
      "outputs": []
    },
    {
      "cell_type": "code",
      "source": [
        "def main():\n",
        "  main()\n",
        "\n",
        "  try:\n",
        "    analyzer=DataAnalyzer()\n",
        "\n",
        "    data={\n",
        "        'Region': ['North', 'North', 'South', 'South', 'East', 'East'],\n",
        "        'Product': ['A', 'B', 'A', 'B', 'A', 'B'],\n",
        "        \"Sales\":[234, 123, 345, 231, 543, 654]\n",
        "    }\n",
        "\n",
        "    df=analyzer.create_multi_index_df(data)\n",
        "    print('MultiIndexed DataFrame:')\n",
        "    print(df)\n",
        "\n",
        "    time_series_df=analyzer.process_time_series('20230101', 10)\n",
        "    print(\"\\nTime Series Analysis:\")\n",
        "    print(time_series_df)\n",
        "\n",
        "    pivot_analysis=analyzer.create_pivot_analysis(df)\n",
        "    print(\"\\nPivot Analysis:\")\n",
        "    print(pivot_analysis['pivot_table'])\n",
        "\n",
        "  except Exception as e:\n",
        "    logging.error(f\"Error in main execution: {str(e)}\")\n",
        "    raise"
      ],
      "metadata": {
        "id": "BdHXaz6Gt-mL"
      },
      "execution_count": 17,
      "outputs": []
    },
    {
      "cell_type": "code",
      "source": [
        "if __name__==\"__main__\":\n",
        "  main()"
      ],
      "metadata": {
        "colab": {
          "base_uri": "https://localhost:8080/",
          "height": 339
        },
        "id": "F8KcTD87GYdA",
        "outputId": "17bda1ac-a2f0-406a-aff8-522163e4407a"
      },
      "execution_count": 18,
      "outputs": [
        {
          "output_type": "error",
          "ename": "RecursionError",
          "evalue": "maximum recursion depth exceeded",
          "traceback": [
            "\u001b[0;31m---------------------------------------------------------------------------\u001b[0m",
            "\u001b[0;31mRecursionError\u001b[0m                            Traceback (most recent call last)",
            "\u001b[0;32m<ipython-input-18-b48f8e0df241>\u001b[0m in \u001b[0;36m<cell line: 0>\u001b[0;34m()\u001b[0m\n\u001b[1;32m      1\u001b[0m \u001b[0;32mif\u001b[0m \u001b[0m__name__\u001b[0m\u001b[0;34m==\u001b[0m\u001b[0;34m\"__main__\"\u001b[0m\u001b[0;34m:\u001b[0m\u001b[0;34m\u001b[0m\u001b[0;34m\u001b[0m\u001b[0m\n\u001b[0;32m----> 2\u001b[0;31m   \u001b[0mmain\u001b[0m\u001b[0;34m(\u001b[0m\u001b[0;34m)\u001b[0m\u001b[0;34m\u001b[0m\u001b[0;34m\u001b[0m\u001b[0m\n\u001b[0m",
            "\u001b[0;32m<ipython-input-17-78a3b9e2520d>\u001b[0m in \u001b[0;36mmain\u001b[0;34m()\u001b[0m\n\u001b[1;32m      1\u001b[0m \u001b[0;32mdef\u001b[0m \u001b[0mmain\u001b[0m\u001b[0;34m(\u001b[0m\u001b[0;34m)\u001b[0m\u001b[0;34m:\u001b[0m\u001b[0;34m\u001b[0m\u001b[0;34m\u001b[0m\u001b[0m\n\u001b[0;32m----> 2\u001b[0;31m   \u001b[0mmain\u001b[0m\u001b[0;34m(\u001b[0m\u001b[0;34m)\u001b[0m\u001b[0;34m\u001b[0m\u001b[0;34m\u001b[0m\u001b[0m\n\u001b[0m\u001b[1;32m      3\u001b[0m \u001b[0;34m\u001b[0m\u001b[0m\n\u001b[1;32m      4\u001b[0m   \u001b[0;32mtry\u001b[0m\u001b[0;34m:\u001b[0m\u001b[0;34m\u001b[0m\u001b[0;34m\u001b[0m\u001b[0m\n\u001b[1;32m      5\u001b[0m     \u001b[0manalyzer\u001b[0m\u001b[0;34m=\u001b[0m\u001b[0mDataAnalyzer\u001b[0m\u001b[0;34m(\u001b[0m\u001b[0;34m)\u001b[0m\u001b[0;34m\u001b[0m\u001b[0;34m\u001b[0m\u001b[0m\n",
            "... last 1 frames repeated, from the frame below ...\n",
            "\u001b[0;32m<ipython-input-17-78a3b9e2520d>\u001b[0m in \u001b[0;36mmain\u001b[0;34m()\u001b[0m\n\u001b[1;32m      1\u001b[0m \u001b[0;32mdef\u001b[0m \u001b[0mmain\u001b[0m\u001b[0;34m(\u001b[0m\u001b[0;34m)\u001b[0m\u001b[0;34m:\u001b[0m\u001b[0;34m\u001b[0m\u001b[0;34m\u001b[0m\u001b[0m\n\u001b[0;32m----> 2\u001b[0;31m   \u001b[0mmain\u001b[0m\u001b[0;34m(\u001b[0m\u001b[0;34m)\u001b[0m\u001b[0;34m\u001b[0m\u001b[0;34m\u001b[0m\u001b[0m\n\u001b[0m\u001b[1;32m      3\u001b[0m \u001b[0;34m\u001b[0m\u001b[0m\n\u001b[1;32m      4\u001b[0m   \u001b[0;32mtry\u001b[0m\u001b[0;34m:\u001b[0m\u001b[0;34m\u001b[0m\u001b[0;34m\u001b[0m\u001b[0m\n\u001b[1;32m      5\u001b[0m     \u001b[0manalyzer\u001b[0m\u001b[0;34m=\u001b[0m\u001b[0mDataAnalyzer\u001b[0m\u001b[0;34m(\u001b[0m\u001b[0;34m)\u001b[0m\u001b[0;34m\u001b[0m\u001b[0;34m\u001b[0m\u001b[0m\n",
            "\u001b[0;31mRecursionError\u001b[0m: maximum recursion depth exceeded"
          ]
        }
      ]
    }
  ]
}